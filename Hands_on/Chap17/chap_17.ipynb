{
 "cells": [
  {
   "cell_type": "code",
   "execution_count": 1,
   "id": "d28be06c",
   "metadata": {},
   "outputs": [],
   "source": [
    "import sys\n",
    "import sklearn\n",
    "import tensorflow as tf\n",
    "from tensorflow import keras\n",
    "\n",
    "import numpy as np\n",
    "import os\n",
    "\n",
    "np.random.seed(42)\n",
    "tf.random.set_seed(42)\n",
    "\n",
    "%matplotlib inline\n",
    "import matplotlib as mpl\n",
    "import matplotlib.pyplot as plt\n",
    "mpl.rc('axes', labelsize=14)\n",
    "mpl.rc('xtick', labelsize=12)\n",
    "mpl.rc('ytick', labelsize=12)\n",
    "\n",
    "PROJECT_ROOT_DIR = \".\"\n",
    "CHAPTER_ID = \"autoencoders\"\n",
    "IMAGES_PATH = os.path.join(PROJECT_ROOT_DIR, \"images\", CHAPTER_ID)\n",
    "os.makedirs(IMAGES_PATH, exist_ok=True)\n",
    "\n",
    "def save_fig(fig_id, tight_layout=True, fig_extension=\"png\", resolution=300):\n",
    "    path = os.path.join(IMAGES_PATH, fig_id + \".\" + fig_extension)\n",
    "    print(\"그림 저장\", fig_id)\n",
    "    if tight_layout:\n",
    "        plt.tight_layout()\n",
    "    plt.savefig(path, format=fig_extension, dpi=resolution)\n"
   ]
  },
  {
   "cell_type": "code",
   "execution_count": 2,
   "id": "e719c416",
   "metadata": {},
   "outputs": [],
   "source": [
    "def plot_image(image):\n",
    "    plt.imshow(image, cmap=\"binary\")\n",
    "    plt.axis(\"off\")"
   ]
  },
  {
   "cell_type": "code",
   "execution_count": 3,
   "id": "0339d7ac",
   "metadata": {},
   "outputs": [],
   "source": [
    "# 오토인코더 : 어떤 지도 없이도 잠재표현 또는 코딩이라 부르는 입력 데이터의 밀집 표현을 학습할 수 있는 인공 신경망\n",
    "# GAN : 생성적 적대 신경망\n",
    "\n",
    "# 오토인코더는 항상 두부분으로 구성. 입력을 내부표현으로 바꾸는 인코더(인지 네트워크)와 내부표현을 출력으로 바꾸는 디코더(생성 네크워크)\n",
    "# 일반적으로 오토인코더는 다층 퍼셉트론과 구조 동일\n",
    "# 내부의 표현이 입력 데이터보다 저차원이기 때문에 과소완전이라고 함"
   ]
  },
  {
   "cell_type": "markdown",
   "id": "07b921e2",
   "metadata": {},
   "source": [
    "## 과소완전 선형 오토인코더로 PCA 수행"
   ]
  },
  {
   "cell_type": "code",
   "execution_count": 10,
   "id": "dfb79526",
   "metadata": {},
   "outputs": [],
   "source": [
    "# 오토인코터가 선형 활성화 함수만 사용하고 비용 함수가 평균 제곱 오차라면 결국 주성분 분석을 수행하는 것으로 볼 수 있음\n",
    "\n",
    "# 3D 데이터셋에 PCA를 적용해 2D에 투영하는 간단한 선형 오토인코더\n",
    "np.random.seed(4)\n",
    "\n",
    "def generate_3d_data(m, w1=0.1, w2=0.3, noise=0.1):\n",
    "    angles = np.random.rand(m) * 3 * np.pi / 2 - 0.5\n",
    "    data = np.empty((m, 3))\n",
    "    data[:, 0] = np.cos(angles) + np.sin(angles)/2 + noise * np.random.randn(m) / 2\n",
    "    data[:, 1] = np.sin(angles) * 0.7 + noise * np.random.randn(m) / 2\n",
    "    data[:, 2] = data[:, 0] * w1 + data[:, 1] * w2 + noise * np.random.randn(m)\n",
    "    return data\n",
    "\n",
    "X_train = generate_3d_data(60)\n",
    "X_train = X_train - X_train.mean(axis=0, keepdims=0)"
   ]
  },
  {
   "cell_type": "code",
   "execution_count": 11,
   "id": "3518e86b",
   "metadata": {},
   "outputs": [],
   "source": [
    "np.random.seed(42)\n",
    "tf.random.set_seed(42)\n",
    "\n",
    "encoder = keras.models.Sequential([keras.layers.Dense(2, input_shape=[3])])\n",
    "decoder = keras.models.Sequential([keras.layers.Dense(3, input_shape=[2])])\n",
    "autoencoder = keras.models.Sequential([encoder, decoder])\n",
    "\n",
    "autoencoder.compile(loss=\"mse\", optimizer=keras.optimizers.SGD(learning_rate=1.5))"
   ]
  },
  {
   "cell_type": "code",
   "execution_count": 12,
   "id": "6d0f896b",
   "metadata": {},
   "outputs": [
    {
     "name": "stdout",
     "output_type": "stream",
     "text": [
      "Epoch 1/20\n",
      "2/2 [==============================] - 0s 840us/step - loss: 0.2726\n",
      "Epoch 2/20\n",
      "2/2 [==============================] - 0s 597us/step - loss: 0.1026\n",
      "Epoch 3/20\n",
      "2/2 [==============================] - 0s 651us/step - loss: 0.0547\n",
      "Epoch 4/20\n",
      "2/2 [==============================] - 0s 582us/step - loss: 0.0512\n",
      "Epoch 5/20\n",
      "2/2 [==============================] - 0s 690us/step - loss: 0.0773\n",
      "Epoch 6/20\n",
      "2/2 [==============================] - 0s 1ms/step - loss: 0.2136\n",
      "Epoch 7/20\n",
      "2/2 [==============================] - 0s 731us/step - loss: 0.1043\n",
      "Epoch 8/20\n",
      "2/2 [==============================] - 0s 640us/step - loss: 0.0315\n",
      "Epoch 9/20\n",
      "2/2 [==============================] - 0s 689us/step - loss: 0.0241\n",
      "Epoch 10/20\n",
      "2/2 [==============================] - 0s 675us/step - loss: 0.0195\n",
      "Epoch 11/20\n",
      "2/2 [==============================] - 0s 718us/step - loss: 0.0142\n",
      "Epoch 12/20\n",
      "2/2 [==============================] - 0s 681us/step - loss: 0.0106\n",
      "Epoch 13/20\n",
      "2/2 [==============================] - 0s 775us/step - loss: 0.0071\n",
      "Epoch 14/20\n",
      "2/2 [==============================] - 0s 934us/step - loss: 0.0056\n",
      "Epoch 15/20\n",
      "2/2 [==============================] - 0s 950us/step - loss: 0.0060\n",
      "Epoch 16/20\n",
      "2/2 [==============================] - 0s 664us/step - loss: 0.0050\n",
      "Epoch 17/20\n",
      "2/2 [==============================] - 0s 628us/step - loss: 0.0048\n",
      "Epoch 18/20\n",
      "2/2 [==============================] - 0s 584us/step - loss: 0.0046\n",
      "Epoch 19/20\n",
      "2/2 [==============================] - 0s 560us/step - loss: 0.0046\n",
      "Epoch 20/20\n",
      "2/2 [==============================] - 0s 576us/step - loss: 0.0041\n"
     ]
    }
   ],
   "source": [
    "history = autoencoder.fit(X_train, X_train, epochs=20)"
   ]
  },
  {
   "cell_type": "code",
   "execution_count": 13,
   "id": "fdb14db8",
   "metadata": {},
   "outputs": [],
   "source": [
    "codings = encoder.predict(X_train)"
   ]
  },
  {
   "cell_type": "code",
   "execution_count": 14,
   "id": "02c1f5b6",
   "metadata": {},
   "outputs": [
    {
     "name": "stdout",
     "output_type": "stream",
     "text": [
      "그림 저장 linear_autoencoder_pca_plot\n"
     ]
    },
    {
     "data": {
      "image/png": "[encoded data removed]",
      "text/plain": [
       "<Figure size 400x300 with 1 Axes>"
      ]
     },
     "metadata": {},
     "output_type": "display_data"
    }
   ],
   "source": [
    "fig = plt.figure(figsize=(4, 3))\n",
    "plt.plot(codings[:, 0], codings[:, 1], \"b.\")\n",
    "plt.xlabel(\"$z_1$\", fontsize=18)\n",
    "plt.ylabel(\"$z_2$\", fontsize=18, rotation=0)\n",
    "plt.grid(True)\n",
    "save_fig(\"linear_autoencoder_pca_plot\")\n",
    "plt.show()"
   ]
  },
  {
   "cell_type": "markdown",
   "id": "acc85976",
   "metadata": {},
   "source": [
    "## 적층 오토인코더"
   ]
  },
  {
   "cell_type": "code",
   "execution_count": 19,
   "id": "ffcddc78",
   "metadata": {},
   "outputs": [],
   "source": [
    "# 적층 오코인코더 (심층 오토인코더): 은닉층 여러개\n",
    "# 전형적으로 가운데 은닉층 기준으로 대칭\n",
    "\n",
    "# 케라스를 사용하여 적층 오토인코더 구현\n",
    "(X_train_full, y_train_full), (X_test, y_test) = keras.datasets.fashion_mnist.load_data()\n",
    "X_train_full = X_train_full.astype(np.float32) / 255\n",
    "X_test = X_test.astype(np.float32) / 255\n",
    "X_train, X_valid = X_train_full[:-5000], X_train_full[-5000:]\n",
    "y_train, y_valid = y_train_full[:-5000], y_train_full[-5000:]"
   ]
  },
  {
   "cell_type": "code",
   "execution_count": 20,
   "id": "805cdbf9",
   "metadata": {},
   "outputs": [],
   "source": [
    "def rounded_accuracy(y_true, y_pred):\n",
    "    return keras.metrics.binary_accuracy(tf.round(y_true), tf.round(y_pred))"
   ]
  },
  {
   "cell_type": "code",
   "execution_count": 21,
   "id": "30d9b91b",
   "metadata": {
    "collapsed": true
   },
   "outputs": [
    {
     "name": "stdout",
     "output_type": "stream",
     "text": [
      "Epoch 1/20\n",
      "1719/1719 [==============================] - 2s 1ms/step - loss: 0.3815 - rounded_accuracy: 0.8487 - val_loss: 0.3164 - val_rounded_accuracy: 0.9007\n",
      "Epoch 2/20\n",
      "1719/1719 [==============================] - 2s 1ms/step - loss: 0.3082 - rounded_accuracy: 0.9127 - val_loss: 0.3021 - val_rounded_accuracy: 0.9198\n",
      "Epoch 3/20\n",
      "1719/1719 [==============================] - 2s 1ms/step - loss: 0.2997 - rounded_accuracy: 0.9204 - val_loss: 0.2984 - val_rounded_accuracy: 0.9202\n",
      "Epoch 4/20\n",
      "1719/1719 [==============================] - 2s 1ms/step - loss: 0.2959 - rounded_accuracy: 0.9240 - val_loss: 0.2938 - val_rounded_accuracy: 0.9286\n",
      "Epoch 5/20\n",
      "1719/1719 [==============================] - 2s 1ms/step - loss: 0.2928 - rounded_accuracy: 0.9268 - val_loss: 0.2919 - val_rounded_accuracy: 0.9285\n",
      "Epoch 6/20\n",
      "1719/1719 [==============================] - 2s 1ms/step - loss: 0.2920 - rounded_accuracy: 0.9283 - val_loss: 0.2914 - val_rounded_accuracy: 0.9305\n",
      "Epoch 7/20\n",
      "1719/1719 [==============================] - 2s 1ms/step - loss: 0.2899 - rounded_accuracy: 0.9297 - val_loss: 0.2907 - val_rounded_accuracy: 0.9279\n",
      "Epoch 8/20\n",
      "1719/1719 [==============================] - 2s 1ms/step - loss: 0.2876 - rounded_accuracy: 0.9314 - val_loss: 0.2932 - val_rounded_accuracy: 0.9308\n",
      "Epoch 9/20\n",
      "1719/1719 [==============================] - 2s 1ms/step - loss: 0.2878 - rounded_accuracy: 0.9316 - val_loss: 0.2906 - val_rounded_accuracy: 0.9258\n",
      "Epoch 10/20\n",
      "1719/1719 [==============================] - 2s 1ms/step - loss: 0.2860 - rounded_accuracy: 0.9329 - val_loss: 0.2877 - val_rounded_accuracy: 0.9310\n",
      "Epoch 11/20\n",
      "1719/1719 [==============================] - 2s 1ms/step - loss: 0.2860 - rounded_accuracy: 0.9330 - val_loss: 0.2865 - val_rounded_accuracy: 0.9348\n",
      "Epoch 12/20\n",
      "1719/1719 [==============================] - 2s 1ms/step - loss: 0.2845 - rounded_accuracy: 0.9343 - val_loss: 0.2856 - val_rounded_accuracy: 0.9355\n",
      "Epoch 13/20\n",
      "1719/1719 [==============================] - 2s 1ms/step - loss: 0.2839 - rounded_accuracy: 0.9343 - val_loss: 0.2847 - val_rounded_accuracy: 0.9351\n",
      "Epoch 14/20\n",
      "1719/1719 [==============================] - 2s 1ms/step - loss: 0.2830 - rounded_accuracy: 0.9353 - val_loss: 0.2844 - val_rounded_accuracy: 0.9365\n",
      "Epoch 15/20\n",
      "1719/1719 [==============================] - 2s 1ms/step - loss: 0.2827 - rounded_accuracy: 0.9354 - val_loss: 0.2841 - val_rounded_accuracy: 0.9353\n",
      "Epoch 16/20\n",
      "1719/1719 [==============================] - 2s 1ms/step - loss: 0.2832 - rounded_accuracy: 0.9356 - val_loss: 0.2847 - val_rounded_accuracy: 0.9354\n",
      "Epoch 17/20\n",
      "1719/1719 [==============================] - 2s 1ms/step - loss: 0.2827 - rounded_accuracy: 0.9358 - val_loss: 0.2836 - val_rounded_accuracy: 0.9363\n",
      "Epoch 18/20\n",
      "1719/1719 [==============================] - 2s 1ms/step - loss: 0.2815 - rounded_accuracy: 0.9366 - val_loss: 0.2831 - val_rounded_accuracy: 0.9364\n",
      "Epoch 19/20\n",
      "1719/1719 [==============================] - 2s 1ms/step - loss: 0.2813 - rounded_accuracy: 0.9371 - val_loss: 0.2827 - val_rounded_accuracy: 0.9374\n",
      "Epoch 20/20\n",
      "1719/1719 [==============================] - 2s 1ms/step - loss: 0.2806 - rounded_accuracy: 0.9370 - val_loss: 0.2840 - val_rounded_accuracy: 0.9367\n"
     ]
    }
   ],
   "source": [
    "tf.random.set_seed(42)\n",
    "np.random.seed(42)\n",
    "\n",
    "stacked_encoder = keras.models.Sequential([\n",
    "    keras.layers.Flatten(input_shape=[28, 28]),\n",
    "    keras.layers.Dense(100, activation=\"selu\"),\n",
    "    keras.layers.Dense(30, activation=\"selu\"),\n",
    "])\n",
    "stacked_decoder = keras.models.Sequential([\n",
    "    keras.layers.Dense(100, activation=\"selu\", input_shape=[30]),\n",
    "    keras.layers.Dense(28 * 28, activation=\"sigmoid\"),\n",
    "    keras.layers.Reshape([28, 28])\n",
    "])\n",
    "stacked_ae = keras.models.Sequential([stacked_encoder, stacked_decoder])\n",
    "stacked_ae.compile(loss=\"binary_crossentropy\",\n",
    "                   optimizer=keras.optimizers.SGD(learning_rate=1.5), metrics=[rounded_accuracy])\n",
    "history = stacked_ae.fit(X_train, X_train, epochs=20,\n",
    "                         validation_data=(X_valid, X_valid))"
   ]
  },
  {
   "cell_type": "code",
   "execution_count": 23,
   "id": "0bd24225",
   "metadata": {},
   "outputs": [
    {
     "name": "stdout",
     "output_type": "stream",
     "text": [
      "그림 저장 reconstruction_plot\n"
     ]
    },
    {
     "data": {
      "image/png": "[encoded data removed]",
      "text/plain": [
       "<Figure size 750x300 with 10 Axes>"
      ]
     },
     "metadata": {},
     "output_type": "display_data"
    }
   ],
   "source": [
    "# 재구성 시각화\n",
    "def plot_image(image):\n",
    "    plt.imshow(image, cmap=\"binary\")\n",
    "    plt.axis(\"off\")\n",
    "    \n",
    "def show_reconstructions(model, n_images=5):\n",
    "    reconstructions = model.predict(X_valid[:n_images])\n",
    "    fig = plt.figure(figsize=(n_images * 1.5, 3))\n",
    "    for image_index in range(n_images):\n",
    "        plt.subplot(2, n_images, 1 + image_index)\n",
    "        plot_image(X_valid[image_index])\n",
    "        plt.subplot(2, n_images, 1 + n_images + image_index)\n",
    "        plot_image(reconstructions[image_index])\n",
    "\n",
    "show_reconstructions(stacked_ae)\n",
    "save_fig(\"reconstruction_plot\")"
   ]
  },
  {
   "cell_type": "code",
   "execution_count": null,
   "id": "2f7ba865",
   "metadata": {},
   "outputs": [],
   "source": [
    "# 패션 MNIST 데이터셋 시각화\n"
   ]
  }
 ],
 "metadata": {
  "kernelspec": {
   "display_name": "Python 3",
   "language": "python",
   "name": "python3"
  },
  "language_info": {
   "codemirror_mode": {
    "name": "ipython",
    "version": 3
   },
   "file_extension": ".py",
   "mimetype": "text/x-python",
   "name": "python",
   "nbconvert_exporter": "python",
   "pygments_lexer": "ipython3",
   "version": "3.8.6"
  }
 },
 "nbformat": 4,
 "nbformat_minor": 5
}
