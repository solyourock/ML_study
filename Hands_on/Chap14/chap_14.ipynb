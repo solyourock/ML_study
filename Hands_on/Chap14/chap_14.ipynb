{
  "cells": [
    {
      "cell_type": "code",
      "execution_count": 1,
      "id": "736b3c75",
      "metadata": {
        "id": "736b3c75"
      },
      "outputs": [],
      "source": [
        "import sys\n",
        "import sklearn\n",
        "import tensorflow as tf\n",
        "from tensorflow import keras\n",
        "\n",
        "import numpy as np\n",
        "import os\n",
        "\n",
        "%matplotlib inline\n",
        "import matplotlib as mpl\n",
        "import matplotlib.pyplot as plt\n",
        "mpl.rc('axes', labelsize=14)\n",
        "mpl.rc('xtick', labelsize=12)\n",
        "mpl.rc('ytick', labelsize=12)\n",
        "\n",
        "PROJECT_ROOT_DIR = \".\"\n",
        "CHAPTER_ID = \"cnn\"\n",
        "IMAGES_PATH = os.path.join(PROJECT_ROOT_DIR, \"images\", CHAPTER_ID)\n",
        "os.makedirs(IMAGES_PATH, exist_ok=True)\n",
        "\n",
        "def save_fig(fig_id, tight_layout=True, fig_extension=\"png\", resolution=300):\n",
        "    path = os.path.join(IMAGES_PATH, fig_id + \".\" + fig_extension)\n",
        "    print(\"그림 저장\", fig_id)\n",
        "    if tight_layout:\n",
        "        plt.tight_layout()\n",
        "    plt.savefig(path, format=fig_extension, dpi=resolution)"
      ]
    },
    {
      "cell_type": "code",
      "execution_count": null,
      "id": "37de004d",
      "metadata": {
        "id": "37de004d"
      },
      "outputs": [],
      "source": [
        "def plot_image(image):\n",
        "    plt.imshow(image, cmap=\"gray\", interpolation=\"nearest\")\n",
        "    plt.axis(\"off\")\n",
        "\n",
        "def plot_color_image(image):\n",
        "    plt.imshow(image, interpolation=\"nearest\")\n",
        "    plt.axis(\"off\")"
      ]
    },
    {
      "cell_type": "markdown",
      "id": "89839f5c",
      "metadata": {
        "id": "89839f5c"
      },
      "source": [
        "## 합성곱 층"
      ]
    },
    {
      "cell_type": "code",
      "execution_count": null,
      "id": "4c1e8899",
      "metadata": {
        "id": "4c1e8899"
      },
      "outputs": [],
      "source": [
        "from sklearn.datasets import load_sample_image\n",
        "\n",
        "# load image\n",
        "# 각 컬러 채널의 픽셀 강도는 0에서 255 사의 값 바이트 하나로 표현되기 때문에 255를 나우어서 0과 1사이의 실수로 만들어줌\n",
        "china = load_sample_image('china.jpg') / 255\n",
        "flower = load_sample_image('flower.jpg') / 255\n",
        "images = np.array([china, flower])\n",
        "batch_size, height, width, channels = images.shape\n",
        "\n",
        "# 2개의 필터\n",
        "filters = np.zeros(shape=(7, 7, channels, 2), dtype=np.float32)\n",
        "filters[:, 3, :, 0] = 1\n",
        "filters[3, :, :, 1] = 1\n",
        "\n",
        "outputs = tf.nn.conv2d(images, filters, strides=1, padding=\"SAME\")\n",
        "\n",
        "plt.imshow(outputs[0, :, :, 1], cmap=\"gray\")\n",
        "plt.axis(\"off\")\n",
        "plt.show()"
      ]
    },
    {
      "cell_type": "code",
      "execution_count": null,
      "id": "15c9d4fe",
      "metadata": {
        "id": "15c9d4fe"
      },
      "outputs": [],
      "source": [
        "plt.imshow(outputs[1, :, :, 0], cmap=\"gray\")\n",
        "plt.axis(\"off\")\n",
        "plt.show()"
      ]
    },
    {
      "cell_type": "code",
      "execution_count": null,
      "id": "6f2b9752",
      "metadata": {
        "id": "6f2b9752"
      },
      "outputs": [],
      "source": [
        "plt.imshow(outputs[1, :, :, 1], cmap=\"gray\")\n",
        "plt.axis(\"off\")\n",
        "plt.show()"
      ]
    },
    {
      "cell_type": "code",
      "execution_count": null,
      "id": "d8e9d509",
      "metadata": {
        "id": "d8e9d509"
      },
      "outputs": [],
      "source": [
        "for image_index in (0, 1):\n",
        "    for feature_map_index in (0, 1):\n",
        "        plt.subplot(2, 2, image_index * 2 + feature_map_index + 1)\n",
        "        plot_image(outputs[image_index, :, :, feature_map_index])\n",
        "        \n",
        "plt.show()"
      ]
    },
    {
      "cell_type": "code",
      "execution_count": null,
      "id": "669a4280",
      "metadata": {
        "id": "669a4280"
      },
      "outputs": [],
      "source": [
        "def crop(images):\n",
        "    return images[150:220, 130:250]"
      ]
    },
    {
      "cell_type": "code",
      "execution_count": null,
      "id": "92222407",
      "metadata": {
        "id": "92222407"
      },
      "outputs": [],
      "source": [
        "plot_image(crop(images[0, :, :, 0]))\n",
        "save_fig(\"china_original\", tight_layout=False)\n",
        "plt.show()\n",
        "\n",
        "for feature_map_index, filename in enumerate([\"china_vertical\", \"china_horizontal\"]):\n",
        "    plot_image(crop(outputs[0, :, :, feature_map_index]))\n",
        "    save_fig(filename, tight_layout=False)\n",
        "    plt.show()"
      ]
    },
    {
      "cell_type": "code",
      "execution_count": null,
      "id": "1c6bc1d4",
      "metadata": {
        "id": "1c6bc1d4"
      },
      "outputs": [],
      "source": [
        "plot_image(filters[:, :, 0, 0])\n",
        "plt.show()\n",
        "plot_image(filters[:, :, 0, 1])\n",
        "plt.show()"
      ]
    },
    {
      "cell_type": "code",
      "execution_count": null,
      "id": "893d9471",
      "metadata": {
        "id": "893d9471"
      },
      "outputs": [],
      "source": [
        "# keras.layers.Conv2D()\n",
        "np.random.seed(42)\n",
        "tf.random.set_seed(42)\n",
        "\n",
        "conv = keras.layers.Conv2D(filters=2, kernel_size=7, strides=1,\n",
        "                          padding=\"SAME\", activation=\"relu\", input_shape=outputs.shape)"
      ]
    },
    {
      "cell_type": "code",
      "execution_count": null,
      "id": "d6ac94db",
      "metadata": {
        "id": "d6ac94db"
      },
      "outputs": [],
      "source": [
        "conv_outputs = conv(images)\n",
        "conv_outputs.shape"
      ]
    },
    {
      "cell_type": "code",
      "execution_count": null,
      "id": "00bf10d3",
      "metadata": {
        "id": "00bf10d3"
      },
      "outputs": [],
      "source": [
        "plt.figure(figsize=(10, 6))\n",
        "for image_index in (0, 1):\n",
        "    for feature_map_index in (0, 1):\n",
        "        plt.subplot(2, 2, image_index * 2 + feature_map_index + 1)\n",
        "        plot_image(crop(conv_outputs[image_index, :, :, feature_map_index]))\n",
        "plt.show()"
      ]
    },
    {
      "cell_type": "code",
      "execution_count": null,
      "id": "340b0422",
      "metadata": {
        "id": "340b0422"
      },
      "outputs": [],
      "source": [
        "conv.set_weights([filters, np.zeros(2)])"
      ]
    },
    {
      "cell_type": "code",
      "execution_count": null,
      "id": "81802d0f",
      "metadata": {
        "id": "81802d0f"
      },
      "outputs": [],
      "source": [
        "conv_outputs = conv(images)\n",
        "conv_outputs.shape"
      ]
    },
    {
      "cell_type": "code",
      "execution_count": null,
      "id": "245f6f47",
      "metadata": {
        "id": "245f6f47"
      },
      "outputs": [],
      "source": [
        "plt.figure(figsize=(10, 6))\n",
        "for image_index in (0, 1):\n",
        "    for feature_map_index in (0, 1):\n",
        "        plt.subplot(2, 2, image_index * 2 + feature_map_index + 1)\n",
        "        plot_image(crop(conv_outputs[image_index, :, :, feature_map_index]))\n",
        "plt.show()"
      ]
    },
    {
      "cell_type": "code",
      "execution_count": null,
      "id": "cac42b81",
      "metadata": {
        "id": "cac42b81"
      },
      "outputs": [],
      "source": [
        "# VALID vs SAME 패팅\n",
        "def feature_map_size(input_size, kernel_size, strides=1, padding=\"SAME\"):\n",
        "    if padding == \"SAME\":\n",
        "        return (input_size - 1) // strides + 1\n",
        "    else:\n",
        "        return (input_size - kernel_size) // strides + 1"
      ]
    },
    {
      "cell_type": "code",
      "execution_count": null,
      "id": "e6acf8db",
      "metadata": {
        "id": "e6acf8db"
      },
      "outputs": [],
      "source": [
        "def pad_before_and_padded_size(input_size, kernel_size, strides=1):\n",
        "    fmap_size = feature_map_size(input_size, kernel_size, strides)\n",
        "    padded_size = max((fmap_size - 1) * strides + kernel_size, input_size)\n",
        "    pad_before = (padded_size - input_size) // 2\n",
        "    return pad_before, padded_size"
      ]
    },
    {
      "cell_type": "code",
      "execution_count": null,
      "id": "33e8de53",
      "metadata": {
        "id": "33e8de53"
      },
      "outputs": [],
      "source": [
        "def manual_same_padding(images, kernel_size, strides=1):\n",
        "    if kernel_size == 1:\n",
        "        return images.astype(np.float32)\n",
        "    batch_size, height, width, channels = images.shape\n",
        "    top_pad, padded_heigth = pad_before_and_padded_size(height, kernel_size, strides)\n",
        "    left_pad, padded_width = pad_before_and_padded_size(width, kernel_size, strides)\n",
        "    padded_shape = [batch_size, padded_heigth, padded_width, channels]\n",
        "    padded_images = np.zeros(padded_shape, dtype=np.float32)\n",
        "    padded_images[:, top_pad:height+top_pad, left_pad:width+left_pad, :] = images\n",
        "    return padded_images"
      ]
    },
    {
      "cell_type": "code",
      "execution_count": null,
      "id": "68f6943e",
      "metadata": {
        "id": "68f6943e"
      },
      "outputs": [],
      "source": [
        "kernel_size = 7\n",
        "strides = 2\n",
        "\n",
        "conv_valid = keras.layers.Conv2D(filters=1, kernel_size=kernel_size, strides=strides, padding=\"valid\")\n",
        "conv_same = keras.layers.Conv2D(filters=1, kernel_size=kernel_size, strides=strides, padding=\"SAME\")\n",
        "\n",
        "valid_output = conv_valid(manual_same_padding(images, kernel_size, strides))\n",
        "\n",
        "# conv_same의 가중치를 생성하기 위해 build() 매서드 호출\n",
        "conv_same.build(tf.TensorShape(images.shape))\n",
        "\n",
        "# conv_valid의 가중치를 conv_same으로 복사\n",
        "conv_same.set_weights(conv_valid.get_weights())\n",
        "same_output = conv_same(images.astype(np.float32))\n",
        "assert np.allclose(valid_output.numpy(), same_output.numpy())"
      ]
    },
    {
      "cell_type": "markdown",
      "id": "8b483078",
      "metadata": {
        "id": "8b483078"
      },
      "source": [
        "## 풀링 층"
      ]
    },
    {
      "cell_type": "code",
      "execution_count": null,
      "id": "0ccf7a53",
      "metadata": {
        "id": "0ccf7a53"
      },
      "outputs": [],
      "source": [
        "# 최대 풀링\n",
        "max_pool = keras.layers.MaxPool2D(pool_size=2)"
      ]
    },
    {
      "cell_type": "code",
      "execution_count": null,
      "id": "4077dc44",
      "metadata": {
        "id": "4077dc44"
      },
      "outputs": [],
      "source": [
        "cropped_images = np.array([crop(image) for image in images], dtype=np.float32)\n",
        "output = max_pool(cropped_images)"
      ]
    },
    {
      "cell_type": "code",
      "execution_count": null,
      "id": "cd24e199",
      "metadata": {
        "id": "cd24e199"
      },
      "outputs": [],
      "source": [
        "fig = plt.figure(figsize=(12, 8))\n",
        "gs = mpl.gridspec.GridSpec(nrows=1, ncols=2, width_ratios=[2, 1])\n",
        "\n",
        "ax1 = fig.add_subplot(gs[0, 0])\n",
        "ax1.set_title(\"Input\", fontsize=14)\n",
        "ax1.imshow(cropped_images[0])\n",
        "ax1.axis(\"off\")\n",
        "ax2 = fig.add_subplot(gs[0, 1])\n",
        "ax2.set_title(\"Output\", fontsize=14)\n",
        "ax2.imshow(output[0])\n",
        "ax2.axis(\"off\")\n",
        "save_fig(\"china_max_pooling\")\n",
        "plt.show()"
      ]
    },
    {
      "cell_type": "code",
      "execution_count": null,
      "id": "ab99700b",
      "metadata": {
        "id": "ab99700b"
      },
      "outputs": [],
      "source": [
        "# 깊이 방향 풀링\n",
        "class DepthMaxPool(keras.layers.Layer):\n",
        "    def __init__(self, pool_size, strides=None, padding=\"VALID\", **kwargs):\n",
        "        super().__init__(**kwargs)\n",
        "        if strides is None:\n",
        "            strides = pool_size\n",
        "        self.pool_size = pool_size\n",
        "        self.strides = strides\n",
        "        self.padding = padding\n",
        "    def call(self, inputs):\n",
        "        return tf.nn.max_pool(inputs, \n",
        "                              ksize=(1, 1, 1, self.pool_size),\n",
        "                              strides=(1, 1, 1, self.pool_size),\n",
        "                              padding=self.padding)"
      ]
    },
    {
      "cell_type": "code",
      "execution_count": null,
      "id": "bf1eb5a6",
      "metadata": {
        "id": "bf1eb5a6"
      },
      "outputs": [],
      "source": [
        "depth_pool = DepthMaxPool(3)\n",
        "with tf.device(\"/cpu:0\"):\n",
        "    depth_output = depth_pool(cropped_images)\n",
        "depth_output.shape"
      ]
    },
    {
      "cell_type": "code",
      "execution_count": null,
      "id": "683a312d",
      "metadata": {
        "id": "683a312d"
      },
      "outputs": [],
      "source": [
        "# Lambda층 사용\n",
        "depth_pool = keras.layers.Lambda(lambda X:tf.nn.max_pool(\n",
        "X,ksize=(1, 1, 1, 3), strides=(1, 1, 1, 3), padding=\"VALID\"))\n",
        "with tf.device(\"/cpu:0\"):\n",
        "    depth_output = depth_pool(cropped_images)\n",
        "depth_output.shape"
      ]
    },
    {
      "cell_type": "code",
      "execution_count": null,
      "id": "18b6120e",
      "metadata": {
        "id": "18b6120e"
      },
      "outputs": [],
      "source": [
        "plt.figure(figsize=(12, 8))\n",
        "plt.subplot(1, 2, 1)\n",
        "plt.title(\"Input\", fontsize=14)\n",
        "plot_color_image(cropped_images[0])\n",
        "plt.subplot(1, 2, 2)\n",
        "plt.title(\"Ouput\", fontsize=14)\n",
        "plot_image(depth_output[0, ..., 0])\n",
        "plt.axis(\"off\")\n",
        "plt.show()"
      ]
    },
    {
      "cell_type": "code",
      "execution_count": null,
      "id": "32052d35",
      "metadata": {
        "id": "32052d35"
      },
      "outputs": [],
      "source": [
        "# 평균 폴링\n",
        "avg_pool = keras.layers.AvgPool2D(pool_size=2)\n",
        "output_avg = avg_pool(cropped_images)"
      ]
    },
    {
      "cell_type": "code",
      "execution_count": null,
      "id": "1aeace5e",
      "metadata": {
        "id": "1aeace5e"
      },
      "outputs": [],
      "source": [
        "fig = plt.figure(figsize=(12, 8))\n",
        "gs = mpl.gridspec.GridSpec(nrows=1, ncols=2, width_ratios=[2, 1])\n",
        "\n",
        "ax1 = fig.add_subplot(gs[0, 0])\n",
        "ax1.set_title(\"Input\", fontsize=14)\n",
        "ax1.imshow(cropped_images[0])\n",
        "ax1.axis(\"off\")\n",
        "ax2 = fig.add_subplot(gs[0, 1])\n",
        "ax2.set_title(\"Output\", fontsize=14)\n",
        "ax2.imshow(output_avg[0])\n",
        "ax2.axis(\"off\")\n",
        "plt.show()"
      ]
    },
    {
      "cell_type": "code",
      "execution_count": null,
      "id": "2e6f0fb7",
      "metadata": {
        "id": "2e6f0fb7"
      },
      "outputs": [],
      "source": [
        "# 전역 평균 풀링\n",
        "global_avg_pool = keras.layers.GlobalAvgPool2D()\n",
        "global_avg_pool(cropped_images)"
      ]
    },
    {
      "cell_type": "code",
      "execution_count": null,
      "id": "eec64022",
      "metadata": {
        "id": "eec64022"
      },
      "outputs": [],
      "source": [
        "output_global_avg2 = keras.layers.Lambda(lambda X: tf.reduce_mean(X, axis=[1, 2]))\n",
        "output_global_avg2(cropped_images)"
      ]
    },
    {
      "cell_type": "markdown",
      "id": "7aa3646f",
      "metadata": {
        "id": "7aa3646f"
      },
      "source": [
        "### CNN으로 패션 MNIST 문제 풀기"
      ]
    },
    {
      "cell_type": "code",
      "execution_count": 2,
      "id": "68a71150",
      "metadata": {
        "colab": {
          "base_uri": "https://localhost:8080/"
        },
        "id": "68a71150",
        "outputId": "da977bcf-611f-4186-d11d-d77208ef402d"
      },
      "outputs": [
        {
          "output_type": "stream",
          "name": "stdout",
          "text": [
            "Downloading data from https://storage.googleapis.com/tensorflow/tf-keras-datasets/train-labels-idx1-ubyte.gz\n",
            "32768/29515 [=================================] - 0s 0us/step\n",
            "40960/29515 [=========================================] - 0s 0us/step\n",
            "Downloading data from https://storage.googleapis.com/tensorflow/tf-keras-datasets/train-images-idx3-ubyte.gz\n",
            "26427392/26421880 [==============================] - 1s 0us/step\n",
            "26435584/26421880 [==============================] - 1s 0us/step\n",
            "Downloading data from https://storage.googleapis.com/tensorflow/tf-keras-datasets/t10k-labels-idx1-ubyte.gz\n",
            "16384/5148 [===============================================================================================] - 0s 0us/step\n",
            "Downloading data from https://storage.googleapis.com/tensorflow/tf-keras-datasets/t10k-images-idx3-ubyte.gz\n",
            "4423680/4422102 [==============================] - 0s 0us/step\n",
            "4431872/4422102 [==============================] - 0s 0us/step\n"
          ]
        }
      ],
      "source": [
        "(X_train_full, y_train_full), (X_test, y_test) = keras.datasets.fashion_mnist.load_data()\n",
        "X_train, X_valid = X_train_full[:-5000], X_train_full[-5000:]\n",
        "y_train, y_valid = y_train_full[:-5000], y_train_full[-5000:]\n",
        "\n",
        "X_mean = X_train.mean(axis=0, keepdims=True)\n",
        "X_std = X_train.std(axis=0, keepdims=True) + 1e-7\n",
        "X_train = (X_train - X_mean) / X_std\n",
        "X_valid = (X_valid - X_mean) / X_std\n",
        "X_test = (X_test - X_mean) / X_std\n",
        "\n",
        "X_train = X_train[..., np.newaxis]\n",
        "X_valid = X_valid[..., np.newaxis]\n",
        "X_test = X_test[..., np.newaxis]"
      ]
    },
    {
      "cell_type": "code",
      "execution_count": 3,
      "id": "e5945e74",
      "metadata": {
        "id": "e5945e74"
      },
      "outputs": [],
      "source": [
        "from functools import partial\n",
        "\n",
        "DefaultConv2D = partial(keras.layers.Conv2D,\n",
        "                        kernel_size=3, activation='relu', padding=\"SAME\")\n",
        "\n",
        "model = keras.models.Sequential([\n",
        "    DefaultConv2D(filters=64, kernel_size=7, input_shape=[28, 28, 1]),\n",
        "    keras.layers.MaxPooling2D(pool_size=2),\n",
        "    DefaultConv2D(filters=128),\n",
        "    DefaultConv2D(filters=128),\n",
        "    keras.layers.MaxPooling2D(pool_size=2),\n",
        "    DefaultConv2D(filters=256),\n",
        "    DefaultConv2D(filters=256),\n",
        "    keras.layers.MaxPooling2D(pool_size=2),\n",
        "    keras.layers.Flatten(),\n",
        "    keras.layers.Dense(units=128, activation='relu'),\n",
        "    keras.layers.Dropout(0.5),\n",
        "    keras.layers.Dense(units=64, activation='relu'),\n",
        "    keras.layers.Dropout(0.5),\n",
        "    keras.layers.Dense(units=10, activation='softmax'),\n",
        "])"
      ]
    },
    {
      "cell_type": "code",
      "execution_count": 5,
      "id": "d0e31f02",
      "metadata": {
        "colab": {
          "base_uri": "https://localhost:8080/"
        },
        "id": "d0e31f02",
        "outputId": "e01ba70f-c296-404c-8486-0cb44e2fbc12"
      },
      "outputs": [
        {
          "output_type": "stream",
          "name": "stdout",
          "text": [
            "Epoch 1/10\n",
            "1719/1719 [==============================] - 56s 29ms/step - loss: 0.7087 - accuracy: 0.7570 - val_loss: 0.3648 - val_accuracy: 0.8650\n",
            "Epoch 2/10\n",
            "1719/1719 [==============================] - 49s 28ms/step - loss: 0.4195 - accuracy: 0.8592 - val_loss: 0.3054 - val_accuracy: 0.8888\n",
            "Epoch 3/10\n",
            "1719/1719 [==============================] - 49s 28ms/step - loss: 0.3558 - accuracy: 0.8804 - val_loss: 0.3052 - val_accuracy: 0.8898\n",
            "Epoch 4/10\n",
            "1719/1719 [==============================] - 48s 28ms/step - loss: 0.3253 - accuracy: 0.8903 - val_loss: 0.3036 - val_accuracy: 0.8902\n",
            "Epoch 5/10\n",
            "1719/1719 [==============================] - 48s 28ms/step - loss: 0.3085 - accuracy: 0.8965 - val_loss: 0.3137 - val_accuracy: 0.8896\n",
            "Epoch 6/10\n",
            "1719/1719 [==============================] - 48s 28ms/step - loss: 0.2854 - accuracy: 0.9023 - val_loss: 0.2804 - val_accuracy: 0.8988\n",
            "Epoch 7/10\n",
            "1719/1719 [==============================] - 48s 28ms/step - loss: 0.2753 - accuracy: 0.9064 - val_loss: 0.3015 - val_accuracy: 0.8900\n",
            "Epoch 8/10\n",
            "1719/1719 [==============================] - 49s 28ms/step - loss: 0.2646 - accuracy: 0.9109 - val_loss: 0.2758 - val_accuracy: 0.8970\n",
            "Epoch 9/10\n",
            "1719/1719 [==============================] - 48s 28ms/step - loss: 0.2548 - accuracy: 0.9153 - val_loss: 0.2764 - val_accuracy: 0.9080\n",
            "Epoch 10/10\n",
            "1719/1719 [==============================] - 48s 28ms/step - loss: 0.2470 - accuracy: 0.9163 - val_loss: 0.3271 - val_accuracy: 0.8956\n",
            "313/313 [==============================] - 3s 9ms/step - loss: 0.3289 - accuracy: 0.8960\n"
          ]
        }
      ],
      "source": [
        "model.compile(loss=\"sparse_categorical_crossentropy\", optimizer=\"nadam\", metrics=[\"accuracy\"])\n",
        "history = model.fit(X_train, y_train, epochs=10, validation_data=(X_valid, y_valid))\n",
        "score = model.evaluate(X_test, y_test)\n",
        "X_new = X_test[:10] # 새로운 이미지처럼 사용합니다\n",
        "y_pred = model.predict(X_new)"
      ]
    },
    {
      "cell_type": "code",
      "execution_count": null,
      "id": "f33743af",
      "metadata": {
        "id": "f33743af"
      },
      "outputs": [],
      "source": [
        ""
      ]
    }
  ],
  "metadata": {
    "kernelspec": {
      "display_name": "Python 3",
      "language": "python",
      "name": "python3"
    },
    "language_info": {
      "codemirror_mode": {
        "name": "ipython",
        "version": 3
      },
      "file_extension": ".py",
      "mimetype": "text/x-python",
      "name": "python",
      "nbconvert_exporter": "python",
      "pygments_lexer": "ipython3",
      "version": "3.8.6"
    },
    "colab": {
      "name": "chap_14.ipynb",
      "provenance": []
    },
    "accelerator": "GPU"
  },
  "nbformat": 4,
  "nbformat_minor": 5
}