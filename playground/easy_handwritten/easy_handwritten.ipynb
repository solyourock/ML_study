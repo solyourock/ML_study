{
 "cells": [
  {
   "cell_type": "code",
   "execution_count": 2,
   "id": "6968e44d",
   "metadata": {},
   "outputs": [],
   "source": [
    "import os\n",
    "import json\n",
    "import random\n",
    "import numpy as np\n",
    "import pandas as pd\n",
    "import argparse\n",
    "import collections\n",
    "from PIL import Image\n",
    "from glob import glob\n",
    "import sklearn\n",
    "import sklearn.metrics"
   ]
  },
  {
   "cell_type": "code",
   "execution_count": 3,
   "id": "bcaf0682",
   "metadata": {},
   "outputs": [],
   "source": [
    "import torch\n",
    "import torch.nn as nn\n",
    "from torch.nn import CTCLoss\n",
    "from torch.utils import data\n",
    "from torch.utils.data import DataLoader\n",
    "import torch.optim as optim\n",
    "from torch.autograd import Variable\n",
    "import torchvision.transforms as transforms"
   ]
  },
  {
   "cell_type": "code",
   "execution_count": 4,
   "id": "fb7d274d",
   "metadata": {},
   "outputs": [],
   "source": [
    "devise = torch.device('cuda' if torch.cuda.is_available() else 'cpu')\n",
    "os.environ[\"CUDA_VISIBLE_DEVICES\"]=\"3\"\n",
    "\n",
    "DATASET_PATH = '/workspace/01_data/01_handwritten/02_processed'"
   ]
  },
  {
   "cell_type": "code",
   "execution_count": 5,
   "id": "e03d1e6a",
   "metadata": {},
   "outputs": [],
   "source": [
    "class CustomDataset(data.Dataset):\n",
    "    def __init__(self, root, phase='train', transform=None, target_transform=None):\n",
    "        # 경로 생성 후 생성된 경로의 이미지 파일을 불러와 정렬한 다음 저장\n",
    "        self.root = os.path.join(root, 'd2', phase)\n",
    "        self.labels = []\n",
    "        self.transform = transform\n",
    "        self.target_transform = target_transform\n",
    "        annotations = None\n",
    "        \n",
    "        if phase == 'val' :\n",
    "            self.root = os.path.join(root, 'd2', 'train')\n",
    "        \n",
    "        # 라벨 데이터인 json 파일을 불러와 저장한 다음 json 파일 안의 딕셔너리를 파일 이름 순으로 정렬\n",
    "        with open(os.path.join(self.root, 'labels.json'), 'r') as label_json :\n",
    "            label_json = json.load(label_json)\n",
    "            annotations = label_json['annotations']\n",
    "        annotations = sorted(annotations, key=lambda x: x['file_name'])\n",
    "        \n",
    "        self.imgs = sorted(glob(self.root + '/images' + '/*.png'))\n",
    "        \n",
    "        if phase == 'train':\n",
    "            annotations = annotations[:int(0.9*len(annotations))]\n",
    "            self.imgs = self.imgs[:int(0.9*len(self.imgs))]\n",
    "        elif phase == 'val':\n",
    "            annotations = annotations[int(0.9*len(annotations)):]\n",
    "            self.imgs = self.imgs[int(0.9*len(self.imgs)):]\n",
    "            \n",
    "        for annon in annotations:\n",
    "            if phase == 'test':\n",
    "                self.labels.append('dummy')\n",
    "            else:\n",
    "                self.labels.append(anno['text'])\n",
    "    \n",
    "    def __len__(self):\n",
    "        return len(self.imgs)\n",
    "    \n",
    "    def __getitem__(self, index) :\n",
    "        assert index <= len(self), 'index range error'\n",
    "        img_path = self.imgs[index]\n",
    "        #이미지 모드 변경 흰배경에 검은 글씨 뿐이므로 그레이 스케일 ('L') 지정\n",
    "        img = Image.open(img_path).convert('L')\n",
    "        \n",
    "        label = self.labels[index]\n",
    "        \n",
    "        if self.transform is not None:\n",
    "            img = self.transform(img)\n",
    "            \n",
    "        if self.target_transform is not None:\n",
    "            label = self.target_transform(label)\n",
    "            \n",
    "        return (img, label)\n",
    "    \n",
    "    # CustomDataset 클래스의 __init__ 매서드에서 정의한 self.root 출력\n",
    "    def get_root(self):\n",
    "        return self.root\n",
    "    \n",
    "    # 해당 index의 이미지 파일의 경로 출력\n",
    "    def get_img_path(self, index):\n",
    "        return self.imgs[index]\n",
    "    \n",
    "    \n",
    "# 이미지 사이즈 변경 (resize), 이중선형보간(bilinear interpolation), 텐서 변환, 표준화(normalize)\n",
    "    \n",
    "    "
   ]
  },
  {
   "cell_type": "code",
   "execution_count": null,
   "id": "1b1877b3",
   "metadata": {},
   "outputs": [],
   "source": [
    "#"
   ]
  }
 ],
 "metadata": {
  "kernelspec": {
   "display_name": "Python 3",
   "language": "python",
   "name": "python3"
  },
  "language_info": {
   "codemirror_mode": {
    "name": "ipython",
    "version": 3
   },
   "file_extension": ".py",
   "mimetype": "text/x-python",
   "name": "python",
   "nbconvert_exporter": "python",
   "pygments_lexer": "ipython3",
   "version": "3.8.6"
  }
 },
 "nbformat": 4,
 "nbformat_minor": 5
}
