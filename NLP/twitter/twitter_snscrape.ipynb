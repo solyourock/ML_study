{
 "cells": [
  {
   "cell_type": "code",
   "execution_count": 1,
   "id": "ac5d62a7",
   "metadata": {
    "collapsed": true
   },
   "outputs": [
    {
     "name": "stdout",
     "output_type": "stream",
     "text": [
      "Collecting snscrape\n",
      "  Downloading snscrape-0.4.3.20220106-py3-none-any.whl (59 kB)\n",
      "\u001b[2K     \u001b[90m━━━━━━━━━━━━━━━━━━━━━━━━━━━━━━━━━━━━━━━━\u001b[0m \u001b[32m59.1/59.1 KB\u001b[0m \u001b[31m1.9 MB/s\u001b[0m eta \u001b[36m0:00:00\u001b[0m\n",
      "\u001b[?25hRequirement already satisfied: pytz in /Users/sol/miniforge3/envs/m1/lib/python3.8/site-packages (from snscrape) (2021.1)\n",
      "Requirement already satisfied: beautifulsoup4 in /Users/sol/miniforge3/envs/m1/lib/python3.8/site-packages (from snscrape) (4.6.0)\n",
      "Requirement already satisfied: requests[socks] in /Users/sol/miniforge3/envs/m1/lib/python3.8/site-packages (from snscrape) (2.25.1)\n",
      "Requirement already satisfied: lxml in /Users/sol/miniforge3/envs/m1/lib/python3.8/site-packages (from snscrape) (4.6.3)\n",
      "Collecting filelock\n",
      "  Downloading filelock-3.6.0-py3-none-any.whl (10.0 kB)\n",
      "Requirement already satisfied: idna<3,>=2.5 in /Users/sol/miniforge3/envs/m1/lib/python3.8/site-packages (from requests[socks]->snscrape) (2.10)\n",
      "Requirement already satisfied: urllib3<1.27,>=1.21.1 in /Users/sol/miniforge3/envs/m1/lib/python3.8/site-packages (from requests[socks]->snscrape) (1.26.4)\n",
      "Requirement already satisfied: chardet<5,>=3.0.2 in /Users/sol/miniforge3/envs/m1/lib/python3.8/site-packages (from requests[socks]->snscrape) (4.0.0)\n",
      "Requirement already satisfied: certifi>=2017.4.17 in /Users/sol/miniforge3/envs/m1/lib/python3.8/site-packages (from requests[socks]->snscrape) (2021.10.8)\n",
      "Requirement already satisfied: PySocks!=1.5.7,>=1.5.6 in /Users/sol/miniforge3/envs/m1/lib/python3.8/site-packages (from requests[socks]->snscrape) (1.7.1)\n",
      "Installing collected packages: filelock, snscrape\n",
      "Successfully installed filelock-3.6.0 snscrape-0.4.3.20220106\n"
     ]
    }
   ],
   "source": [
    "!pip install snscrape"
   ]
  },
  {
   "cell_type": "code",
   "execution_count": 5,
   "id": "154bddd9",
   "metadata": {},
   "outputs": [],
   "source": [
    "import snscrape.modules.twitter as sntwitter\n",
    "import pandas\n",
    "\n",
    "tweets_list = []\n",
    "\n",
    "for i, tweet in enumerate(sntwitter.TwitterSearchScraper('엉덩이 탐정 since:2022-03-01 until:2022-03-07').get_items()):\n",
    "    if i>5000:\n",
    "        break\n",
    "    tweets_list.append([tweet.date, tweet.id, tweet.content, tweet.user.username])"
   ]
  },
  {
   "cell_type": "code",
   "execution_count": 9,
   "id": "9a84208e",
   "metadata": {},
   "outputs": [],
   "source": [
    "import pandas as pd \n",
    "\n",
    "tweet_df = pd.DataFrame(tweets_list, columns=['datetime', 'id', 'text', 'username'])"
   ]
  },
  {
   "cell_type": "code",
   "execution_count": 10,
   "id": "bfc5a8e9",
   "metadata": {
    "collapsed": true
   },
   "outputs": [
    {
     "data": {
      "text/html": [
       "<div>\n",
       "<style scoped>\n",
       "    .dataframe tbody tr th:only-of-type {\n",
       "        vertical-align: middle;\n",
       "    }\n",
       "\n",
       "    .dataframe tbody tr th {\n",
       "        vertical-align: top;\n",
       "    }\n",
       "\n",
       "    .dataframe thead th {\n",
       "        text-align: right;\n",
       "    }\n",
       "</style>\n",
       "<table border=\"1\" class=\"dataframe\">\n",
       "  <thead>\n",
       "    <tr style=\"text-align: right;\">\n",
       "      <th></th>\n",
       "      <th>datetime</th>\n",
       "      <th>id</th>\n",
       "      <th>text</th>\n",
       "      <th>username</th>\n",
       "    </tr>\n",
       "  </thead>\n",
       "  <tbody>\n",
       "    <tr>\n",
       "      <th>0</th>\n",
       "      <td>2022-03-06 23:43:50+00:00</td>\n",
       "      <td>1500618187423236099</td>\n",
       "      <td>출근길에 엉덩이 탐정 포스터 목격 https://t.co/3TorlTuqMP</td>\n",
       "      <td>konipani</td>\n",
       "    </tr>\n",
       "    <tr>\n",
       "      <th>1</th>\n",
       "      <td>2022-03-06 17:51:18+00:00</td>\n",
       "      <td>1500529469643112451</td>\n",
       "      <td>서비스 \\n하남시\\n강남\\n서울엉덩이탐정\\n호캉스 \\n서울양천구여자\\n코디\\n유출픽...</td>\n",
       "      <td>uhmaz9lo</td>\n",
       "    </tr>\n",
       "    <tr>\n",
       "      <th>2</th>\n",
       "      <td>2022-03-06 17:43:47+00:00</td>\n",
       "      <td>1500527576875294720</td>\n",
       "      <td>서비스 \\n하남시\\n강남\\n서울엉덩이탐정\\n호캉스 \\n서울양천구여자\\n코디\\n유출픽...</td>\n",
       "      <td>uhmaz9lo</td>\n",
       "    </tr>\n",
       "    <tr>\n",
       "      <th>3</th>\n",
       "      <td>2022-03-06 17:39:10+00:00</td>\n",
       "      <td>1500526417117065217</td>\n",
       "      <td>무지성엉덩이 무엉? 무앙님?\\n뫙님은 엉덩이 탐정 친구셨구나</td>\n",
       "      <td>KIM_MUNG_MUNG</td>\n",
       "    </tr>\n",
       "    <tr>\n",
       "      <th>4</th>\n",
       "      <td>2022-03-06 14:55:01+00:00</td>\n",
       "      <td>1500485107463127043</td>\n",
       "      <td>난 준석사라져니스트라서 엉덩이탐정 반으로 똑 쪼개버리고싶은데</td>\n",
       "      <td>baabeejt</td>\n",
       "    </tr>\n",
       "    <tr>\n",
       "      <th>...</th>\n",
       "      <td>...</td>\n",
       "      <td>...</td>\n",
       "      <td>...</td>\n",
       "      <td>...</td>\n",
       "    </tr>\n",
       "    <tr>\n",
       "      <th>217</th>\n",
       "      <td>2022-03-01 04:53:54+00:00</td>\n",
       "      <td>1498521891031556101</td>\n",
       "      <td>@cmzl_waltz 엉덩이탐정</td>\n",
       "      <td>mireu00714</td>\n",
       "    </tr>\n",
       "    <tr>\n",
       "      <th>218</th>\n",
       "      <td>2022-03-01 04:25:24+00:00</td>\n",
       "      <td>1498514717140160512</td>\n",
       "      <td>서비스 \\n하남시\\n강남\\n서울엉덩이탐정\\n호캉스 \\n서울양천구여자\\n코디\\n유출픽...</td>\n",
       "      <td>Addexp</td>\n",
       "    </tr>\n",
       "    <tr>\n",
       "      <th>219</th>\n",
       "      <td>2022-03-01 03:56:49+00:00</td>\n",
       "      <td>1498507525984980993</td>\n",
       "      <td>서비스 \\n하남시\\n강남\\n서울엉덩이탐정\\n호캉스 \\n서울양천구여자\\n코디\\n유출픽...</td>\n",
       "      <td>lovestar923</td>\n",
       "    </tr>\n",
       "    <tr>\n",
       "      <th>220</th>\n",
       "      <td>2022-03-01 02:47:01+00:00</td>\n",
       "      <td>1498489958264238082</td>\n",
       "      <td>서비스 \\n하남시\\n강남\\n서울엉덩이탐정\\n호캉스 \\n서울양천구여자\\n코디\\n유출픽...</td>\n",
       "      <td>lovestar923</td>\n",
       "    </tr>\n",
       "    <tr>\n",
       "      <th>221</th>\n",
       "      <td>2022-03-01 02:09:35+00:00</td>\n",
       "      <td>1498480538029486081</td>\n",
       "      <td>서비스 \\n하남시\\n강남\\n서울엉덩이탐정\\n호캉스 \\n서울양천구여자\\n코디\\n유출픽...</td>\n",
       "      <td>sopjek</td>\n",
       "    </tr>\n",
       "  </tbody>\n",
       "</table>\n",
       "<p>222 rows × 4 columns</p>\n",
       "</div>"
      ],
      "text/plain": [
       "                     datetime                   id  \\\n",
       "0   2022-03-06 23:43:50+00:00  1500618187423236099   \n",
       "1   2022-03-06 17:51:18+00:00  1500529469643112451   \n",
       "2   2022-03-06 17:43:47+00:00  1500527576875294720   \n",
       "3   2022-03-06 17:39:10+00:00  1500526417117065217   \n",
       "4   2022-03-06 14:55:01+00:00  1500485107463127043   \n",
       "..                        ...                  ...   \n",
       "217 2022-03-01 04:53:54+00:00  1498521891031556101   \n",
       "218 2022-03-01 04:25:24+00:00  1498514717140160512   \n",
       "219 2022-03-01 03:56:49+00:00  1498507525984980993   \n",
       "220 2022-03-01 02:47:01+00:00  1498489958264238082   \n",
       "221 2022-03-01 02:09:35+00:00  1498480538029486081   \n",
       "\n",
       "                                                  text       username  \n",
       "0           출근길에 엉덩이 탐정 포스터 목격 https://t.co/3TorlTuqMP       konipani  \n",
       "1    서비스 \\n하남시\\n강남\\n서울엉덩이탐정\\n호캉스 \\n서울양천구여자\\n코디\\n유출픽...       uhmaz9lo  \n",
       "2    서비스 \\n하남시\\n강남\\n서울엉덩이탐정\\n호캉스 \\n서울양천구여자\\n코디\\n유출픽...       uhmaz9lo  \n",
       "3                    무지성엉덩이 무엉? 무앙님?\\n뫙님은 엉덩이 탐정 친구셨구나  KIM_MUNG_MUNG  \n",
       "4                    난 준석사라져니스트라서 엉덩이탐정 반으로 똑 쪼개버리고싶은데       baabeejt  \n",
       "..                                                 ...            ...  \n",
       "217                                  @cmzl_waltz 엉덩이탐정     mireu00714  \n",
       "218  서비스 \\n하남시\\n강남\\n서울엉덩이탐정\\n호캉스 \\n서울양천구여자\\n코디\\n유출픽...         Addexp  \n",
       "219  서비스 \\n하남시\\n강남\\n서울엉덩이탐정\\n호캉스 \\n서울양천구여자\\n코디\\n유출픽...    lovestar923  \n",
       "220  서비스 \\n하남시\\n강남\\n서울엉덩이탐정\\n호캉스 \\n서울양천구여자\\n코디\\n유출픽...    lovestar923  \n",
       "221  서비스 \\n하남시\\n강남\\n서울엉덩이탐정\\n호캉스 \\n서울양천구여자\\n코디\\n유출픽...         sopjek  \n",
       "\n",
       "[222 rows x 4 columns]"
      ]
     },
     "execution_count": 10,
     "metadata": {},
     "output_type": "execute_result"
    }
   ],
   "source": [
    "tweet_df"
   ]
  },
  {
   "cell_type": "code",
   "execution_count": 11,
   "id": "ff29ac8f",
   "metadata": {},
   "outputs": [],
   "source": [
    "tweet?"
   ]
  },
  {
   "cell_type": "code",
   "execution_count": null,
   "id": "699474f7",
   "metadata": {},
   "outputs": [],
   "source": []
  }
 ],
 "metadata": {
  "kernelspec": {
   "display_name": "Python 3",
   "language": "python",
   "name": "python3"
  },
  "language_info": {
   "codemirror_mode": {
    "name": "ipython",
    "version": 3
   },
   "file_extension": ".py",
   "mimetype": "text/x-python",
   "name": "python",
   "nbconvert_exporter": "python",
   "pygments_lexer": "ipython3",
   "version": "3.8.6"
  }
 },
 "nbformat": 4,
 "nbformat_minor": 5
}
