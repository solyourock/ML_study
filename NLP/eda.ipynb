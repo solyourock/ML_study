{
 "cells": [
  {
   "cell_type": "code",
   "execution_count": 1,
   "id": "85094c5d",
   "metadata": {},
   "outputs": [],
   "source": [
    "import os\n",
    "import re\n",
    "import platform\n",
    "\n",
    "import pandas as pd \n",
    "import numpy as np\n",
    "import seaborn as sns\n",
    "import matplotlib.pyplot as plt\n",
    "from matplotlib import font_manager, rc\n",
    "from PIL import Image\n",
    "from wordcloud import WordCloud, STOPWORDS\n",
    "plt.style.use('ggplot')\n",
    "\n",
    "from datetime import datetime\n",
    "from tqdm import tqdm\n",
    "from collections import Counter\n",
    "import swifter\n",
    "from konlpy.tag import Kkma, Komoran, Okt, Mecab\n",
    "import warnings\n",
    "warnings.simplefilter(action='ignore', category=FutureWarning) "
   ]
  },
  {
   "cell_type": "code",
   "execution_count": 2,
   "id": "a31c5b84",
   "metadata": {},
   "outputs": [],
   "source": [
    "PROJECT_ROOT_DIR = \".\"\n",
    "IMAGES_PATH = os.path.join(PROJECT_ROOT_DIR, \"images\")\n",
    "os.makedirs(IMAGES_PATH, exist_ok=True)\n",
    "\n",
    "def save_fig(fig_id, tight_layout=True, fig_extension=\"png\", resolution=300):\n",
    "    path = os.path.join(IMAGES_PATH, fig_id + \".\" + fig_extension)\n",
    "    print(\"그림 저장:\", fig_id)\n",
    "    if tight_layout:\n",
    "        plt.tight_layout()\n",
    "    plt.savefig(path, format=fig_extension, dpi=resolution)"
   ]
  },
  {
   "cell_type": "code",
   "execution_count": 3,
   "id": "8cbb6498",
   "metadata": {},
   "outputs": [],
   "source": [
    "def Fontmanager():\n",
    "\n",
    "    plt.rcParams['axes.unicode_minus'] = False\n",
    "\n",
    "    if platform.system() == 'Windows':\n",
    "        path = \"c:/Windows/Fonts/malgun.ttf\"\n",
    "        font_name = font_manager.FontProperties(fname=path).get_name()\n",
    "        rc('font', family=font_name)\n",
    "    elif platform.system() == 'Darwin':\n",
    "        path = '/Library/Fonts/Arial Unicode.ttf'\n",
    "        font_name = font_manager.FontProperties(fname=path).get_name()\n",
    "        rc('font', family='AppleGothic')\n",
    "    elif platform.system() == 'Linux':\n",
    "        path = '/usr/share/fonts/truetype/nanum/NanumGothic.ttf'\n",
    "        font_name = font_manager.FontProperties(fname=path).get_name()\n",
    "        rc('font', family='NanumBarunGothic')\n",
    "    else:\n",
    "        print('Unknown system... sorry~~~~~~')\n",
    "    print(f\"해당 pc의 운영 체제는 {platform.system()}이며 {font_name}로 설정되었습니다\")  \n",
    "    return path"
   ]
  },
  {
   "cell_type": "code",
   "execution_count": 4,
   "id": "9cde7526",
   "metadata": {},
   "outputs": [
    {
     "name": "stdout",
     "output_type": "stream",
     "text": [
      "해당 pc의 운영 체제는 Darwin이며 Arial Unicode MS로 설정되었습니다\n"
     ]
    }
   ],
   "source": [
    "path = Fontmanager()"
   ]
  },
  {
   "cell_type": "code",
   "execution_count": 80,
   "id": "23c92655",
   "metadata": {},
   "outputs": [],
   "source": [
    "women_policy = pd.read_csv('dataset/women_policy_sm_best.csv')\n",
    "minister = pd.read_csv('dataset/minister_sm_best.csv')\n",
    "repeal = pd.read_csv('dataset/repeal_sm_best.csv')"
   ]
  },
  {
   "cell_type": "code",
   "execution_count": 50,
   "id": "a1c52a98",
   "metadata": {},
   "outputs": [],
   "source": [
    "# 혹시 모를 중복제거\n",
    "women_policy = women_policy.drop_duplicates()\n",
    "minister = minister.drop_duplicates()\n",
    "repeal = repeal.drop_duplicates()"
   ]
  },
  {
   "cell_type": "code",
   "execution_count": 51,
   "id": "c6e3372f",
   "metadata": {
    "collapsed": true
   },
   "outputs": [
    {
     "data": {
      "text/plain": [
       "datetime       0\n",
       "id             0\n",
       "text           0\n",
       "username       0\n",
       "tokenized      0\n",
       "label          0\n",
       "score          0\n",
       "label_word     0\n",
       "text_re        0\n",
       "multi_label    0\n",
       "여성/가족          0\n",
       "남성             0\n",
       "성소수자           0\n",
       "인종/국적          0\n",
       "연령             0\n",
       "지역             0\n",
       "종교             0\n",
       "기타 혐오          0\n",
       "악플/욕설          0\n",
       "clean          0\n",
       "dtype: int64"
      ]
     },
     "execution_count": 51,
     "metadata": {},
     "output_type": "execute_result"
    }
   ],
   "source": [
    "# 혹시 모를 nan값 확인\n",
    "women_policy.isna().sum()"
   ]
  },
  {
   "cell_type": "code",
   "execution_count": 52,
   "id": "70e9970f",
   "metadata": {
    "collapsed": true
   },
   "outputs": [
    {
     "data": {
      "text/plain": [
       "datetime       0\n",
       "id             0\n",
       "text           0\n",
       "username       0\n",
       "text_re        0\n",
       "multi_label    0\n",
       "label          0\n",
       "score          0\n",
       "label_word     0\n",
       "여성/가족          0\n",
       "남성             0\n",
       "성소수자           0\n",
       "인종/국적          0\n",
       "연령             0\n",
       "지역             0\n",
       "종교             0\n",
       "기타 혐오          0\n",
       "악플/욕설          0\n",
       "clean          0\n",
       "dtype: int64"
      ]
     },
     "execution_count": 52,
     "metadata": {},
     "output_type": "execute_result"
    }
   ],
   "source": [
    "minister.isna().sum()"
   ]
  },
  {
   "cell_type": "code",
   "execution_count": 75,
   "id": "75a8cead",
   "metadata": {
    "collapsed": true
   },
   "outputs": [
    {
     "data": {
      "text/plain": [
       "datetime       0\n",
       "id             0\n",
       "text           0\n",
       "username       0\n",
       "text_re        0\n",
       "multi_label    0\n",
       "label          0\n",
       "score          0\n",
       "label_word     0\n",
       "여성/가족          0\n",
       "남성             0\n",
       "성소수자           0\n",
       "인종/국적          0\n",
       "연령             0\n",
       "지역             0\n",
       "종교             0\n",
       "기타 혐오          0\n",
       "악플/욕설          0\n",
       "clean          0\n",
       "dtype: int64"
      ]
     },
     "execution_count": 75,
     "metadata": {},
     "output_type": "execute_result"
    }
   ],
   "source": [
    "repeal.isna().sum()"
   ]
  },
  {
   "cell_type": "code",
   "execution_count": 54,
   "id": "9a67dba5",
   "metadata": {},
   "outputs": [],
   "source": [
    "repeal = repeal.dropna()"
   ]
  },
  {
   "cell_type": "code",
   "execution_count": 55,
   "id": "10e09787",
   "metadata": {},
   "outputs": [],
   "source": [
    "repeal = repeal[repeal['username'] != 'miganHeart']"
   ]
  },
  {
   "cell_type": "code",
   "execution_count": 56,
   "id": "9f3fcb8a",
   "metadata": {},
   "outputs": [],
   "source": [
    "repeal = repeal[~repeal['text'].str.contains('#자격증')]\n",
    "repeal = repeal[~repeal['text'].str.contains('#PIA사설탐정')]"
   ]
  },
  {
   "cell_type": "code",
   "execution_count": 57,
   "id": "cca978e5",
   "metadata": {},
   "outputs": [],
   "source": [
    "repeal = repeal[repeal['username'] != 'OhmyNews_Korea']"
   ]
  },
  {
   "cell_type": "code",
   "execution_count": 58,
   "id": "2835d41a",
   "metadata": {},
   "outputs": [],
   "source": [
    "minister = minister[minister['username'] != 'OhmyNews_Korea']"
   ]
  },
  {
   "cell_type": "code",
   "execution_count": 59,
   "id": "30935f10",
   "metadata": {},
   "outputs": [],
   "source": [
    "women_policy = women_policy[women_policy['username'] != 'OhmyNews_Korea']"
   ]
  },
  {
   "cell_type": "markdown",
   "id": "925adbf3",
   "metadata": {},
   "source": [
    "## hashtag"
   ]
  },
  {
   "cell_type": "code",
   "execution_count": 16,
   "id": "7ee40eae",
   "metadata": {},
   "outputs": [],
   "source": [
    "def hashtag_preprocessing(df,column):\n",
    "    texts = df[column.apply(lambda x : x.startswith('#'))]\n",
    "    texts['text'] = texts['text'].str.split('\\n').apply(lambda x : [i for i in x if i.startswith('#') ])\n",
    "    texts['text'] = texts['text'].apply(lambda x: ' '.join(x))\n",
    "    texts['text'] = texts['text'].str.split(' ').apply(lambda x : [i for i in x if i.startswith('#') ])\n",
    "    word_of_Bag = sum(texts['text'], [])\n",
    "    word_of_Bag = [word for word in word_of_Bag if not (len(word) == 1)]\n",
    "    return word_of_Bag"
   ]
  },
  {
   "cell_type": "code",
   "execution_count": 17,
   "id": "7a802353",
   "metadata": {},
   "outputs": [],
   "source": [
    "def hashtag_count(word_of_bag):\n",
    "    set_wob = set(word_of_bag)\n",
    "    list_wob = list(set_wob)\n",
    "    key = list_wob\n",
    "    value = [word_of_bag.count(i) for i in list_wob]\n",
    "    df = pd.DataFrame({'key':key, 'value':value})\n",
    "    df = df[df['value'] != 1]\n",
    "    return df"
   ]
  },
  {
   "cell_type": "code",
   "execution_count": null,
   "id": "5a1164d5",
   "metadata": {},
   "outputs": [],
   "source": [
    "# def hashtag_graph(df):\n",
    "#     plt.figure(figsize=(20, 10))\n",
    "#     plot = sns.barplot(df['key'], df['value'])\n",
    "#     plot.set_xticklabels(plot.get_xticklabels(), rotation=45, horizontalalignment='right')\n",
    "#     plt.title('most common hashtag', fontsize=20)\n",
    "#     plt.legend(fontsize=15)"
   ]
  },
  {
   "cell_type": "code",
   "execution_count": 18,
   "id": "9b5fc09d",
   "metadata": {
    "collapsed": true
   },
   "outputs": [
    {
     "name": "stderr",
     "output_type": "stream",
     "text": [
      "<ipython-input-16-ac30ba2be3ba>:3: SettingWithCopyWarning: \n",
      "A value is trying to be set on a copy of a slice from a DataFrame.\n",
      "Try using .loc[row_indexer,col_indexer] = value instead\n",
      "\n",
      "See the caveats in the documentation: https://pandas.pydata.org/pandas-docs/stable/user_guide/indexing.html#returning-a-view-versus-a-copy\n",
      "  texts['text'] = texts['text'].str.split('\\n').apply(lambda x : [i for i in x if i.startswith('#') ])\n",
      "<ipython-input-16-ac30ba2be3ba>:4: SettingWithCopyWarning: \n",
      "A value is trying to be set on a copy of a slice from a DataFrame.\n",
      "Try using .loc[row_indexer,col_indexer] = value instead\n",
      "\n",
      "See the caveats in the documentation: https://pandas.pydata.org/pandas-docs/stable/user_guide/indexing.html#returning-a-view-versus-a-copy\n",
      "  texts['text'] = texts['text'].apply(lambda x: ' '.join(x))\n",
      "<ipython-input-16-ac30ba2be3ba>:5: SettingWithCopyWarning: \n",
      "A value is trying to be set on a copy of a slice from a DataFrame.\n",
      "Try using .loc[row_indexer,col_indexer] = value instead\n",
      "\n",
      "See the caveats in the documentation: https://pandas.pydata.org/pandas-docs/stable/user_guide/indexing.html#returning-a-view-versus-a-copy\n",
      "  texts['text'] = texts['text'].str.split(' ').apply(lambda x : [i for i in x if i.startswith('#') ])\n"
     ]
    }
   ],
   "source": [
    "word_of_Bag_w = hashtag_preprocessing(women_policy, women_policy['text_re'])\n",
    "word_of_Bag_w_df = hashtag_count(word_of_Bag_w)"
   ]
  },
  {
   "cell_type": "code",
   "execution_count": 19,
   "id": "200b43ad",
   "metadata": {
    "collapsed": true
   },
   "outputs": [
    {
     "name": "stderr",
     "output_type": "stream",
     "text": [
      "<ipython-input-16-ac30ba2be3ba>:3: SettingWithCopyWarning: \n",
      "A value is trying to be set on a copy of a slice from a DataFrame.\n",
      "Try using .loc[row_indexer,col_indexer] = value instead\n",
      "\n",
      "See the caveats in the documentation: https://pandas.pydata.org/pandas-docs/stable/user_guide/indexing.html#returning-a-view-versus-a-copy\n",
      "  texts['text'] = texts['text'].str.split('\\n').apply(lambda x : [i for i in x if i.startswith('#') ])\n",
      "<ipython-input-16-ac30ba2be3ba>:4: SettingWithCopyWarning: \n",
      "A value is trying to be set on a copy of a slice from a DataFrame.\n",
      "Try using .loc[row_indexer,col_indexer] = value instead\n",
      "\n",
      "See the caveats in the documentation: https://pandas.pydata.org/pandas-docs/stable/user_guide/indexing.html#returning-a-view-versus-a-copy\n",
      "  texts['text'] = texts['text'].apply(lambda x: ' '.join(x))\n",
      "<ipython-input-16-ac30ba2be3ba>:5: SettingWithCopyWarning: \n",
      "A value is trying to be set on a copy of a slice from a DataFrame.\n",
      "Try using .loc[row_indexer,col_indexer] = value instead\n",
      "\n",
      "See the caveats in the documentation: https://pandas.pydata.org/pandas-docs/stable/user_guide/indexing.html#returning-a-view-versus-a-copy\n",
      "  texts['text'] = texts['text'].str.split(' ').apply(lambda x : [i for i in x if i.startswith('#') ])\n"
     ]
    }
   ],
   "source": [
    "word_of_Bag_m = hashtag_preprocessing(minister, minister['text_re'])\n",
    "word_of_Bag_m_df = hashtag_count(word_of_Bag_m)"
   ]
  },
  {
   "cell_type": "code",
   "execution_count": 20,
   "id": "dcf1e129",
   "metadata": {
    "collapsed": true
   },
   "outputs": [
    {
     "name": "stderr",
     "output_type": "stream",
     "text": [
      "<ipython-input-16-ac30ba2be3ba>:3: SettingWithCopyWarning: \n",
      "A value is trying to be set on a copy of a slice from a DataFrame.\n",
      "Try using .loc[row_indexer,col_indexer] = value instead\n",
      "\n",
      "See the caveats in the documentation: https://pandas.pydata.org/pandas-docs/stable/user_guide/indexing.html#returning-a-view-versus-a-copy\n",
      "  texts['text'] = texts['text'].str.split('\\n').apply(lambda x : [i for i in x if i.startswith('#') ])\n",
      "<ipython-input-16-ac30ba2be3ba>:4: SettingWithCopyWarning: \n",
      "A value is trying to be set on a copy of a slice from a DataFrame.\n",
      "Try using .loc[row_indexer,col_indexer] = value instead\n",
      "\n",
      "See the caveats in the documentation: https://pandas.pydata.org/pandas-docs/stable/user_guide/indexing.html#returning-a-view-versus-a-copy\n",
      "  texts['text'] = texts['text'].apply(lambda x: ' '.join(x))\n",
      "<ipython-input-16-ac30ba2be3ba>:5: SettingWithCopyWarning: \n",
      "A value is trying to be set on a copy of a slice from a DataFrame.\n",
      "Try using .loc[row_indexer,col_indexer] = value instead\n",
      "\n",
      "See the caveats in the documentation: https://pandas.pydata.org/pandas-docs/stable/user_guide/indexing.html#returning-a-view-versus-a-copy\n",
      "  texts['text'] = texts['text'].str.split(' ').apply(lambda x : [i for i in x if i.startswith('#') ])\n"
     ]
    }
   ],
   "source": [
    "word_of_Bag_r = hashtag_preprocessing(repeal, repeal['text_re'])\n",
    "word_of_Bag_r_df = hashtag_count(word_of_Bag_r)"
   ]
  },
  {
   "cell_type": "code",
   "execution_count": null,
   "id": "f174b93a",
   "metadata": {},
   "outputs": [],
   "source": [
    "# women policy hashtag graph\n",
    "plt.figure(figsize=(20, 10))\n",
    "plot = sns.barplot(word_of_Bag_w_df['key'], word_of_Bag_w_df['value'])\n",
    "plot.set_xticklabels(plot.get_xticklabels(), rotation=45, horizontalalignment='right')\n",
    "plt.title('most common hashtag', fontsize=20)\n",
    "plt.legend(fontsize=15)\n",
    "# save_fig('women policy hashtag graph')"
   ]
  },
  {
   "cell_type": "code",
   "execution_count": null,
   "id": "5920dcbb",
   "metadata": {},
   "outputs": [],
   "source": [
    "# minister hashtag graph\n",
    "plt.figure(figsize=(20, 10))\n",
    "plot = sns.barplot(word_of_Bag_m_df['key'], word_of_Bag_m_df['value'])\n",
    "plot.set_xticklabels(plot.get_xticklabels(), rotation=45, horizontalalignment='right')\n",
    "plt.title('most common hashtag', fontsize=20)\n",
    "plt.legend(fontsize=15)\n",
    "# save_fig('minister hashtag graph')"
   ]
  },
  {
   "cell_type": "code",
   "execution_count": null,
   "id": "fa63d3a4",
   "metadata": {},
   "outputs": [],
   "source": [
    "# repeal hashtag graph\n",
    "plt.figure(figsize=(20, 10))\n",
    "plot = sns.barplot(word_of_Bag_r_df['key'], word_of_Bag_r_df['value'])\n",
    "plot.set_xticklabels(plot.get_xticklabels(), rotation=45, horizontalalignment='right')\n",
    "plt.title('most common hashtag', fontsize=20)\n",
    "plt.legend(fontsize=15)\n",
    "# save_fig('repeal hashtag graph')"
   ]
  },
  {
   "cell_type": "markdown",
   "id": "53a8f756",
   "metadata": {},
   "source": [
    "### 전처리"
   ]
  },
  {
   "cell_type": "code",
   "execution_count": null,
   "id": "ee7c3d83",
   "metadata": {},
   "outputs": [],
   "source": [
    "# 정규표현식 이용한 전처리\n",
    "def clean(text):\n",
    "    #\\n 공백 제거\n",
    "    text = re.sub('\\n',' ',str(text))\n",
    "    # &gt; &lt; &amp;\n",
    "    text = re.sub('[&]+[a-z]+', '', str(text))\n",
    "    # URL 제거\n",
    "    text = re.sub('https://[A-Za-z0-9./]*','',str(text))\n",
    "    # 한글자 제거 (ex:ㅋㅋ, ㅜㅜ)\n",
    "    text = re.sub('([ㄱ-ㅎㅏ-ㅣ])+', '', str(text))\n",
    "    # 숫자 제거 (숫자 + 숫자만 제거, ex: 1인가족)\n",
    "    text= re.sub('[0-9]{2}', '', str(text))\n",
    "    # @알파벳 제거 \n",
    "    text = re.sub('@[A-Za-z0-9./]*','',str(text))\n",
    "#     # 숫자 문자외 제거\n",
    "#     text = re.sub('[^0-9a-zA-Zㄱ-ㅎ가-힣]', ' ', text)\n",
    "    return str(text)"
   ]
  },
  {
   "cell_type": "markdown",
   "id": "396deff8",
   "metadata": {},
   "source": [
    "## who did tweet the most"
   ]
  },
  {
   "cell_type": "code",
   "execution_count": null,
   "id": "0e6a02f3",
   "metadata": {},
   "outputs": [],
   "source": [
    "women_policy['text'] = women_policy['text'].apply(lambda x : clean(x))\n",
    "minister['text'] = minister['text'].apply(lambda x : clean(x))\n",
    "repeal['text'] = repeal['text'].apply(lambda x : clean(x))"
   ]
  },
  {
   "cell_type": "code",
   "execution_count": null,
   "id": "724f4fed",
   "metadata": {},
   "outputs": [],
   "source": [
    "# women_policy\n",
    "plt.figure(figsize=(20,10))\n",
    "sns.barplot(x=women_policy['username'].value_counts()[:20].values, \n",
    "            y=women_policy['username'].value_counts()[:20].index,\n",
    "           orient='h')\n",
    "plt.title('Top 20 who the most writes', fontsize=20)\n",
    "plt.axvline(x=np.average(women_policy['username'].value_counts().values), color='b', linestyle='--', linewidth=3, \n",
    "            label='avg')\n",
    "plt.legend(fontsize=15)\n",
    "save_fig('who did tweet the most w')"
   ]
  },
  {
   "cell_type": "code",
   "execution_count": null,
   "id": "b0f434d7",
   "metadata": {},
   "outputs": [],
   "source": [
    "# minister\n",
    "plt.figure(figsize=(20,10))\n",
    "sns.barplot(x=minister['username'].value_counts()[:20].values, \n",
    "            y=minister['username'].value_counts()[:20].index,\n",
    "           orient='h')\n",
    "plt.title('Top 20 who the most writes', fontsize=20)\n",
    "plt.axvline(x=np.average(minister['username'].value_counts().values), color='b', linestyle='--', linewidth=3, \n",
    "            label='avg')\n",
    "plt.legend(fontsize=15)\n",
    "save_fig('who did tweet the most m')"
   ]
  },
  {
   "cell_type": "code",
   "execution_count": null,
   "id": "48278aac",
   "metadata": {},
   "outputs": [],
   "source": [
    "# minister\n",
    "plt.figure(figsize=(20,10))\n",
    "sns.barplot(x=repeal['username'].value_counts()[:20].values, \n",
    "            y=repeal['username'].value_counts()[:20].index,\n",
    "           orient='h')\n",
    "plt.title('Top 20 who the most writes', fontsize=20)\n",
    "plt.axvline(x=np.average(repeal['username'].value_counts().values), color='b', linestyle='--', linewidth=3, \n",
    "            label='avg')\n",
    "plt.legend(fontsize=15)\n",
    "save_fig('who did tweet the most r')"
   ]
  },
  {
   "cell_type": "markdown",
   "id": "e8d7bfb1",
   "metadata": {},
   "source": [
    "## the lengths of the sentences"
   ]
  },
  {
   "cell_type": "code",
   "execution_count": null,
   "id": "fb7f7de9",
   "metadata": {},
   "outputs": [],
   "source": [
    "# women_policy\n",
    "plt.figure(figsize=(20,10))\n",
    "sns.distplot(a=women_policy['text'].str.len(), bins=70, kde=True,\n",
    "             kde_kws={\"color\":\"g\", \"alpha\":0.2, \"linewidth\":1, \"shade\":True})\n",
    "plt.title('text length distribution', fontsize=20)\n",
    "plt.axvline(x=np.average(women_policy['text'].str.len()), color='b', linestyle='--', linewidth=3, \n",
    "            label='avg')\n",
    "plt.legend(fontsize=15)\n",
    "save_fig('the lengths of the sentences w')"
   ]
  },
  {
   "cell_type": "code",
   "execution_count": null,
   "id": "e7936ed5",
   "metadata": {},
   "outputs": [],
   "source": [
    "# minister\n",
    "plt.figure(figsize=(20,10))\n",
    "sns.distplot(a=minister['text'].str.len(), bins=70, kde=True,\n",
    "             kde_kws={\"color\":\"g\", \"alpha\":0.2, \"linewidth\":1, \"shade\":True})\n",
    "plt.title('text length distribution', fontsize=20)\n",
    "plt.axvline(x=np.average(minister['text'].str.len()), color='b', linestyle='--', linewidth=3, \n",
    "            label='avg')\n",
    "plt.legend(fontsize=15)\n",
    "save_fig('the lengths of the sentences m')"
   ]
  },
  {
   "cell_type": "code",
   "execution_count": null,
   "id": "83034828",
   "metadata": {},
   "outputs": [],
   "source": [
    "# repeal\n",
    "plt.figure(figsize=(20,10))\n",
    "sns.distplot(a=repeal['text'].str.len(), bins=70, kde=True,\n",
    "             kde_kws={\"color\":\"g\", \"alpha\":0.2, \"linewidth\":1, \"shade\":True})\n",
    "plt.title('text length distribution', fontsize=20)\n",
    "plt.axvline(x=np.average(repeal['text'].str.len()), color='b', linestyle='--', linewidth=3, \n",
    "            label='avg')\n",
    "plt.legend(fontsize=15)\n",
    "save_fig('the lengths of the sentences r')"
   ]
  },
  {
   "cell_type": "markdown",
   "id": "190bd308",
   "metadata": {},
   "source": [
    "### Tokenizing"
   ]
  },
  {
   "cell_type": "code",
   "execution_count": null,
   "id": "8a9b5a55",
   "metadata": {},
   "outputs": [],
   "source": [
    "# tokenizer\n",
    "# kkma = Kkma()\n",
    "# komoran = Komoran()\n",
    "# okt = Okt()\n",
    "mecab = Mecab()\n",
    "\n",
    "# stopwords list\n",
    "stop_words = pd.read_csv('dataset/한국어불용어100.txt', sep = \"\\t\", engine='python')\n",
    "stop_words = list(stop_words[\"word\"])\n",
    "\n",
    "def preprocessing_mecab(sentence):\n",
    "    #### Tokenize\n",
    "    morphs = mecab.pos(sentence)\n",
    "    \n",
    "    JOSA = [\"JKS\", \"JKC\", \"JKG\", \"JKO\", \"JKB\", \"JKV\", \"JKQ\", \"JX\", \"JC\"] # 조사\n",
    "    SIGN = [\"SF\", \"SE\", \"SSO\", \"SSC\", \"SC\", \"SY\"] # 문장 부호\n",
    "    TERMINATION = [\"EP\", \"EF\", \"EC\", \"ETN\", \"ETM\"] # 어미\n",
    "    SUPPORT_VERB = [\"VX\"] # 보조 용언\n",
    "    NUMBER = [\"SN\"]\n",
    "    \n",
    "    # Remove JOSA, EOMI, etc\n",
    "    morphs[:] = (morph for morph in morphs if morph[1] not in JOSA+SIGN+TERMINATION+SUPPORT_VERB)\n",
    "        \n",
    "    # Remove length-1 words  \n",
    "    morphs[:] = (morph for morph in morphs if not (len(morph[0]) == 1))\n",
    "    \n",
    "    # Remove Numbers\n",
    "    morphs[:] = (morph for morph in morphs if morph[1] not in NUMBER)\n",
    "   \n",
    "    # Result pop-up\n",
    "    result = []\n",
    "    for morph in morphs:\n",
    "        result.append(morph[0])\n",
    "        \n",
    "    return result"
   ]
  },
  {
   "cell_type": "code",
   "execution_count": null,
   "id": "1643c71a",
   "metadata": {},
   "outputs": [],
   "source": [
    "women_policy['tokenized'] = women_policy['text'].apply(lambda x: preprocessing_mecab(x))\n",
    "women_policy['tokenized'] = women_policy['tokenized'].apply(lambda x: [item for item in x if item not in stop_words])\n",
    "\n",
    "minister['tokenized'] = minister['text'].apply(lambda x: preprocessing_mecab(x))\n",
    "minister['tokenized'] = minister['tokenized'].apply(lambda x: [item for item in x if item not in stop_words])"
   ]
  },
  {
   "cell_type": "code",
   "execution_count": null,
   "id": "95a343af",
   "metadata": {},
   "outputs": [],
   "source": [
    "repeal['tokenized'] = repeal['text'].apply(lambda x: preprocessing_mecab(x))\n",
    "repeal['tokenized'] = repeal['tokenized'].apply(lambda x: [item for item in x if item not in stop_words])"
   ]
  },
  {
   "cell_type": "markdown",
   "id": "b2cd173c",
   "metadata": {},
   "source": [
    "## wordcloud"
   ]
  },
  {
   "cell_type": "code",
   "execution_count": null,
   "id": "eb2aabe4",
   "metadata": {},
   "outputs": [],
   "source": [
    "def common_words(words, k):\n",
    "    c = Counter(words)\n",
    "    cw = c.most_common(k)\n",
    "    return c, cw\n",
    "\n",
    "def wordcloud(c):\n",
    "    wc = WordCloud(font_path='Arial Unicode', width=1000, height=1000, background_color ='white', scale=2.0, max_font_size=250)\n",
    "    gen = wc.generate_from_frequencies(c)\n",
    "    plt.figure(figsize = (10, 10), facecolor = None) \n",
    "    plt.imshow(gen)\n",
    "    plt.axis(\"off\")\n",
    "    plt.tight_layout(pad=0)\n",
    "    # save_fig(\"most_common_words_wordcloud\")\n",
    "    \n",
    "def cw_table(cw):\n",
    "    df = pd.DataFrame(cw, columns=['keywords', 'count'])\n",
    "    return df"
   ]
  },
  {
   "cell_type": "code",
   "execution_count": null,
   "id": "aed99a39",
   "metadata": {},
   "outputs": [],
   "source": [
    "# women_policy\n",
    "words_sum = sum(women_policy['tokenized'], [])\n",
    "c, cw = common_words(words_sum, 200)\n",
    "wordcloud(c)\n",
    "cw_table(cw)[:10]\n",
    "save_fig('wordcloud w')"
   ]
  },
  {
   "cell_type": "code",
   "execution_count": null,
   "id": "ac2b8c0a",
   "metadata": {},
   "outputs": [],
   "source": [
    "# minister\n",
    "words_sum = sum(minister['tokenized'], [])\n",
    "c, cw = common_words(words_sum, 200)\n",
    "wordcloud(c)\n",
    "cw_table(cw)[:10]\n",
    "save_fig('wordcloud m')"
   ]
  },
  {
   "cell_type": "code",
   "execution_count": null,
   "id": "210999ea",
   "metadata": {},
   "outputs": [],
   "source": [
    "# repeal\n",
    "words_sum = sum(repeal['tokenized'], [])\n",
    "c, cw = common_words(words_sum, 200)\n",
    "wordcloud(c)\n",
    "cw_table(cw)[:10]\n",
    "save_fig('wordcloud r')"
   ]
  },
  {
   "cell_type": "code",
   "execution_count": null,
   "id": "d9e4086e",
   "metadata": {},
   "outputs": [],
   "source": [
    "women_policy_w = women_policy.copy()\n",
    "minister_m = minister.copy()\n",
    "repeal_r = repeal.copy()"
   ]
  },
  {
   "cell_type": "code",
   "execution_count": null,
   "id": "ed03a4a6",
   "metadata": {},
   "outputs": [],
   "source": [
    "# women_policy without 여성, 정책\n",
    "stop_words_w = ['여성', '정책']\n",
    "women_policy_w['tokenized'] = women_policy_w['tokenized'].apply(lambda x: [item for item in x if item not in stop_words_w])\n",
    "\n",
    "words_sum = sum(women_policy_w['tokenized'], [])\n",
    "c, cw = common_words(words_sum, 200)\n",
    "wordcloud(c)\n",
    "cw_table(cw)[:10]\n",
    "save_fig('wordcloud without w')"
   ]
  },
  {
   "cell_type": "code",
   "execution_count": null,
   "id": "7769820a",
   "metadata": {},
   "outputs": [],
   "source": [
    "# minister without 여가부, 폐지\n",
    "# 여가가 여가부 같으니\n",
    "stop_words_m = ['여가부', '폐지', '여가']\n",
    "minister_m['tokenized'] = minister_m['tokenized'].apply(lambda x: [item for item in x if item not in stop_words_m])\n",
    "\n",
    "words_sum = sum(minister_m['tokenized'], [])\n",
    "c, cw = common_words(words_sum, 200)\n",
    "wordcloud(c)\n",
    "cw_table(cw)[:10]\n",
    "save_fig('wordcloud without m')"
   ]
  },
  {
   "cell_type": "code",
   "execution_count": null,
   "id": "777f373a",
   "metadata": {},
   "outputs": [],
   "source": [
    "# repeal without 폐지\n",
    "# 여가가 여가부 같으니\n",
    "stop_words_r = ['폐지']\n",
    "repeal_r['tokenized'] = repeal_r['tokenized'].apply(lambda x: [item for item in x if item not in stop_words_r])\n",
    "\n",
    "words_sum = sum(repeal_r['tokenized'], [])\n",
    "c, cw = common_words(words_sum, 200)\n",
    "wordcloud(c)\n",
    "cw_table(cw)[:10]\n",
    "save_fig('wordcloud without r')"
   ]
  },
  {
   "cell_type": "code",
   "execution_count": null,
   "id": "72769cb0",
   "metadata": {},
   "outputs": [],
   "source": [
    "# women_policy\n",
    "# '이재명' 포함한 문장\n",
    "stop_words_lee=['이재명']\n",
    "lee = women_policy_w[women_policy_w['text'].str.contains('이재명')]\n",
    "\n",
    "lee['tokenized'] = lee['tokenized'].apply(lambda x: [item for item in x if item not in stop_words_lee])\n",
    "\n",
    "# wordcloud\n",
    "words_sum = sum(lee['tokenized'], [])\n",
    "c, cw = common_words(words_sum, 200)\n",
    "wordcloud(c)\n",
    "cw_table(cw)[:10]\n",
    "# save_fig('wordcloud lee')"
   ]
  },
  {
   "cell_type": "markdown",
   "id": "d7d41eae",
   "metadata": {},
   "source": [
    "## the most common words by date"
   ]
  },
  {
   "cell_type": "code",
   "execution_count": null,
   "id": "7a5ad310",
   "metadata": {},
   "outputs": [],
   "source": [
    "women_policy_w['date'] = pd.to_datetime(women_policy_w['datetime']).apply(lambda x: x.date())\n",
    "women_policy_w['date_re'] = women_policy_w['date'].apply(lambda x : x.strftime('%Y-%m-%d'))\n",
    "\n",
    "date = []\n",
    "word_list = []\n",
    "count_list = []\n",
    "# tokenizing_list = []\n",
    "\n",
    "for i in women_policy_w['date_re'].unique():\n",
    "    tokenizing = sum(women_policy_w[women_policy_w['date_re'] == i]['tokenized'],[])\n",
    "    c, cw = common_words(tokenizing, 1)    \n",
    "    word = cw[0][0]\n",
    "    count = cw[0][1]\n",
    "    date.append(i)\n",
    "    word_list.append(word)\n",
    "    count_list.append(count)\n",
    "    \n",
    "dateworddict = {'date' : date, 'word' : word_list, 'count' : count_list}\n",
    "test_df = pd.DataFrame(dateworddict, columns=['date', 'word', 'count'])"
   ]
  },
  {
   "cell_type": "code",
   "execution_count": null,
   "id": "cdee6b09",
   "metadata": {},
   "outputs": [],
   "source": [
    "def add_value_labels(ax, word, spacing=5):\n",
    "    for idx, rect in enumerate(ax.patches):\n",
    "        y_value = rect.get_height()\n",
    "        x_value = rect.get_x() + rect.get_width() / 2\n",
    "        space = spacing\n",
    "        va = 'bottom'\n",
    "        if y_value < 0:\n",
    "            space *= -1\n",
    "            va = 'top'\n",
    "\n",
    "        label = \"{0}\".format(word[idx])\n",
    "\n",
    "        ax.annotate(\n",
    "            label,                      # Use `label` as label\n",
    "            (x_value, y_value),         # Place label at end of the bar\n",
    "            xytext=(0, space),          # Vertically shift label by `space`\n",
    "            textcoords=\"offset points\", # Interpret `xytext` as offset in points\n",
    "            ha='center',                # Horizontally center label\n",
    "            va=va)  "
   ]
  },
  {
   "cell_type": "code",
   "execution_count": null,
   "id": "57dbbc97",
   "metadata": {},
   "outputs": [],
   "source": [
    "# women policy\n",
    "fig, ax = plt.subplots(1, figsize=(20,10))\n",
    "plot = sns.barplot(test_df['date'], test_df['count'])\n",
    "add_value_labels(ax, test_df['word'])\n",
    "plot.set_xticklabels(plot.get_xticklabels(), rotation=45, horizontalalignment='right')\n",
    "plt.title('most common word by date', fontsize=20)\n",
    "plt.legend(fontsize=15)\n",
    "save_fig(\"most common word by date w\")\n",
    "\n",
    "fig, ax = plt.subplots(1, figsize=(20,10))\n",
    "plot = sns.barplot(women_policy_w.groupby('date').count()['date_re'].index,\n",
    "                   women_policy_w.groupby('date').count()['date_re'].values)\n",
    "add_value_labels(ax, women_policy_w.groupby('date').count()['date_re'].values)\n",
    "plot.set_xticklabels(plot.get_xticklabels(), rotation=45, horizontalalignment='right')\n",
    "plt.title('distribution by date', fontsize=20)\n",
    "plt.legend(fontsize=15)\n",
    "save_fig(\"distribution by date w\")"
   ]
  },
  {
   "cell_type": "code",
   "execution_count": null,
   "id": "5eb60e5d",
   "metadata": {},
   "outputs": [],
   "source": [
    "# minister\n",
    "minister_m['date'] = pd.to_datetime(minister_m['datetime']).apply(lambda x: x.date())\n",
    "minister_m['date_re'] = minister_m['date'].apply(lambda x : x.strftime('%Y-%m-%d'))\n",
    "\n",
    "date = []\n",
    "word_list = []\n",
    "count_list = []\n",
    "# tokenizing_list = []\n",
    "\n",
    "for i in minister_m['date_re'].unique():\n",
    "    tokenizing = sum(minister_m[minister_m['date_re'] == i]['tokenized'],[])\n",
    "    c, cw = common_words(tokenizing, 1)    \n",
    "    word = cw[0][0]\n",
    "    count = cw[0][1]\n",
    "    date.append(i)\n",
    "    word_list.append(word)\n",
    "    count_list.append(count)\n",
    "    \n",
    "dateworddict = {'date' : date, 'word' : word_list, 'count' : count_list}\n",
    "test_df = pd.DataFrame(dateworddict, columns=['date', 'word', 'count'])"
   ]
  },
  {
   "cell_type": "code",
   "execution_count": null,
   "id": "c64df72b",
   "metadata": {},
   "outputs": [],
   "source": [
    "fig, ax = plt.subplots(1, figsize=(20,10))\n",
    "plot = sns.barplot(test_df['date'], test_df['count'])\n",
    "add_value_labels(ax, test_df['word'])\n",
    "plot.set_xticklabels(plot.get_xticklabels(), rotation=45, horizontalalignment='right')\n",
    "plt.title('most common word by date', fontsize=20)\n",
    "plt.legend(fontsize=15)\n",
    "save_fig(\"most common word by date m\")\n",
    "\n",
    "fig, ax = plt.subplots(1, figsize=(20,10))\n",
    "plot = sns.barplot(minister_m.groupby('date').count()['date_re'].index,\n",
    "                   minister_m.groupby('date').count()['date_re'].values)\n",
    "add_value_labels(ax, minister_m.groupby('date').count()['date_re'].values)\n",
    "plot.set_xticklabels(plot.get_xticklabels(), rotation=45, horizontalalignment='right')\n",
    "plt.title('distribution by date', fontsize=20)\n",
    "plt.legend(fontsize=15)\n",
    "save_fig(\"distribution by date m\")"
   ]
  },
  {
   "cell_type": "code",
   "execution_count": null,
   "id": "060aae97",
   "metadata": {},
   "outputs": [],
   "source": [
    "# #국민의힘과_이준석은_사죄하라 해시 태그 운동"
   ]
  },
  {
   "cell_type": "code",
   "execution_count": null,
   "id": "227529cf",
   "metadata": {},
   "outputs": [],
   "source": [
    "# repeal\n",
    "repeal_r['date'] = pd.to_datetime(repeal_r['datetime']).apply(lambda x: x.date())\n",
    "repeal_r['date_re'] = repeal_r['date'].apply(lambda x : x.strftime('%Y-%m-%d'))\n",
    "\n",
    "date = []\n",
    "word_list = []\n",
    "count_list = []\n",
    "# tokenizing_list = []\n",
    "\n",
    "for i in repeal_r['date_re'].unique():\n",
    "    tokenizing = sum(repeal_r[repeal_r['date_re'] == i]['tokenized'],[])\n",
    "    c, cw = common_words(tokenizing, 1)    \n",
    "    word = cw[0][0]\n",
    "    count = cw[0][1]\n",
    "    date.append(i)\n",
    "    word_list.append(word)\n",
    "    count_list.append(count)\n",
    "    \n",
    "dateworddict = {'date' : date, 'word' : word_list, 'count' : count_list}\n",
    "test_df = pd.DataFrame(dateworddict, columns=['date', 'word', 'count'])"
   ]
  },
  {
   "cell_type": "code",
   "execution_count": null,
   "id": "33a520c0",
   "metadata": {},
   "outputs": [],
   "source": [
    "fig, ax = plt.subplots(1, figsize=(20,10))\n",
    "plot = sns.barplot(test_df['date'], test_df['count'])\n",
    "add_value_labels(ax, test_df['word'])\n",
    "plot.set_xticklabels(plot.get_xticklabels(), rotation=45, horizontalalignment='right')\n",
    "plt.title('most common word by date', fontsize=20)\n",
    "plt.legend(fontsize=15)\n",
    "save_fig(\"most common word by date r\")\n",
    "\n",
    "fig, ax = plt.subplots(1, figsize=(20,10))\n",
    "plot = sns.barplot(repeal_r.groupby('date').count()['date_re'].index,\n",
    "                   repeal_r.groupby('date').count()['date_re'].values)\n",
    "add_value_labels(ax, repeal_r.groupby('date').count()['date_re'].values)\n",
    "plot.set_xticklabels(plot.get_xticklabels(), rotation=45, horizontalalignment='right')\n",
    "plt.title('distribution by date', fontsize=20)\n",
    "plt.legend(fontsize=15)\n",
    "save_fig(\"distribution by date r\")"
   ]
  },
  {
   "cell_type": "markdown",
   "id": "41b65c0f",
   "metadata": {},
   "source": [
    "## multi label distribution"
   ]
  },
  {
   "cell_type": "code",
   "execution_count": 60,
   "id": "354d7618",
   "metadata": {
    "collapsed": true
   },
   "outputs": [
    {
     "name": "stderr",
     "output_type": "stream",
     "text": [
      "No handles with labels found to put in legend.\n"
     ]
    },
    {
     "name": "stdout",
     "output_type": "stream",
     "text": [
      "그림 저장: multi label distribution w\n"
     ]
    },
    {
     "data": {
      "image/png": "[encoded data removed]",
      "text/plain": [
       "<Figure size 1440x720 with 1 Axes>"
      ]
     },
     "metadata": {},
     "output_type": "display_data"
    }
   ],
   "source": [
    "# women_policy\n",
    "plt.figure(figsize=(20,10))\n",
    "plot = sns.countplot(women_policy['multi_label'])\n",
    "plot.set_xticklabels(plot.get_xticklabels(), rotation=45, horizontalalignment='right')\n",
    "plt.title('multi label distribution', fontsize=20)\n",
    "plt.legend(fontsize=15)\n",
    "# save_fig('multi label distribution w')"
   ]
  },
  {
   "cell_type": "code",
   "execution_count": 22,
   "id": "84f5a1b8",
   "metadata": {
    "collapsed": true
   },
   "outputs": [
    {
     "name": "stderr",
     "output_type": "stream",
     "text": [
      "No handles with labels found to put in legend.\n"
     ]
    },
    {
     "name": "stdout",
     "output_type": "stream",
     "text": [
      "그림 저장: multi label distribution m\n"
     ]
    },
    {
     "data": {
      "image/png": "[encoded data removed]",
      "text/plain": [
       "<Figure size 1440x720 with 1 Axes>"
      ]
     },
     "metadata": {},
     "output_type": "display_data"
    }
   ],
   "source": [
    "# minister\n",
    "plt.figure(figsize=(20,10))\n",
    "plot = sns.countplot(minister['multi_label'])\n",
    "plot.set_xticklabels(plot.get_xticklabels(), rotation=45, horizontalalignment='right')\n",
    "plt.title('multi label distribution', fontsize=20)\n",
    "plt.legend(fontsize=15)\n",
    "save_fig('multi label distribution m')"
   ]
  },
  {
   "cell_type": "code",
   "execution_count": 23,
   "id": "d07e1fce",
   "metadata": {
    "collapsed": true
   },
   "outputs": [
    {
     "name": "stderr",
     "output_type": "stream",
     "text": [
      "No handles with labels found to put in legend.\n"
     ]
    },
    {
     "name": "stdout",
     "output_type": "stream",
     "text": [
      "그림 저장: multi label distribution r\n"
     ]
    },
    {
     "data": {
      "image/png": "[encoded data removed]",
      "text/plain": [
       "<Figure size 1440x720 with 1 Axes>"
      ]
     },
     "metadata": {},
     "output_type": "display_data"
    }
   ],
   "source": [
    "# repeal\n",
    "plt.figure(figsize=(20,10))\n",
    "plot = sns.countplot(repeal['multi_label'])\n",
    "plot.set_xticklabels(plot.get_xticklabels(), rotation=45, horizontalalignment='right')\n",
    "plt.title('multi label distribution', fontsize=20)\n",
    "plt.legend(fontsize=15)\n",
    "# save_fig('multi label distribution r')"
   ]
  },
  {
   "cell_type": "code",
   "execution_count": 24,
   "id": "f7e457a0",
   "metadata": {
    "collapsed": true
   },
   "outputs": [
    {
     "data": {
      "image/png": "[encoded data removed]",
      "text/plain": [
       "<Figure size 1440x720 with 1 Axes>"
      ]
     },
     "metadata": {},
     "output_type": "display_data"
    },
    {
     "name": "stdout",
     "output_type": "stream",
     "text": [
      "그림 저장: multi label distribution r\n"
     ]
    },
    {
     "data": {
      "text/plain": [
       "<Figure size 432x288 with 0 Axes>"
      ]
     },
     "metadata": {},
     "output_type": "display_data"
    }
   ],
   "source": [
    "# repeal\n",
    "plt.figure(figsize=(20,10))\n",
    "sns.countplot(repeal['multi_label'])\n",
    "plt.show()\n",
    "# save_fig('multi label distribution r')"
   ]
  },
  {
   "cell_type": "code",
   "execution_count": null,
   "id": "f819a30f",
   "metadata": {},
   "outputs": [],
   "source": [
    "women_policy['multi_label'].unique()"
   ]
  },
  {
   "cell_type": "code",
   "execution_count": null,
   "id": "e59c060f",
   "metadata": {},
   "outputs": [],
   "source": [
    "wp_hp = women_policy[women_policy['multi_label'] == '행복']\n",
    "wp_hate = women_policy[women_policy['multi_label'] == '혐오']\n",
    "wp_n = women_policy[women_policy['multi_label'] == '중립']\n",
    "wp_f = women_policy[women_policy['multi_label'] == '분노']\n",
    "wp_sc = women_policy[women_policy['multi_label'] == '공포']\n",
    "wp_sur = women_policy[women_policy['multi_label'] == '놀람']\n",
    "wp_sad = women_policy[women_policy['multi_label'] == '슬픔']"
   ]
  },
  {
   "cell_type": "code",
   "execution_count": null,
   "id": "4e58ba1f",
   "metadata": {},
   "outputs": [],
   "source": [
    "stop_words_w = ['여성', '정책']\n",
    "wp_sad['tokenized'] = wp_sad['tokenized'].apply(lambda x: [item for item in x if item not in stop_words_w])\n",
    "\n",
    "words_sum = sum(wp_sad['tokenized'], [])\n",
    "c, cw = common_words(words_sum, 200)\n",
    "wordcloud(c)\n",
    "cw_table(cw)[:10]\n",
    "save_fig('wordcloud without wp_sad')"
   ]
  },
  {
   "cell_type": "markdown",
   "id": "a116f787",
   "metadata": {},
   "source": [
    "## pos neg label distribution"
   ]
  },
  {
   "cell_type": "code",
   "execution_count": 61,
   "id": "8b9e2144",
   "metadata": {
    "collapsed": true
   },
   "outputs": [
    {
     "name": "stderr",
     "output_type": "stream",
     "text": [
      "No handles with labels found to put in legend.\n"
     ]
    },
    {
     "data": {
      "text/plain": [
       "<matplotlib.legend.Legend at 0x150218490>"
      ]
     },
     "execution_count": 61,
     "metadata": {},
     "output_type": "execute_result"
    },
    {
     "data": {
      "image/png": "[encoded data removed]",
      "text/plain": [
       "<Figure size 1440x720 with 1 Axes>"
      ]
     },
     "metadata": {},
     "output_type": "display_data"
    }
   ],
   "source": [
    "# women_policy\n",
    "plt.figure(figsize=(20,10))\n",
    "plot = sns.countplot(women_policy['label_word'])\n",
    "plot.set_xticklabels(plot.get_xticklabels(), rotation=45, horizontalalignment='right')\n",
    "plt.title('label_word distribution', fontsize=20)\n",
    "plt.legend(fontsize=15)\n",
    "# save_fig('pog neg label distribution w')"
   ]
  },
  {
   "cell_type": "code",
   "execution_count": 62,
   "id": "c108e875",
   "metadata": {
    "collapsed": true
   },
   "outputs": [
    {
     "name": "stderr",
     "output_type": "stream",
     "text": [
      "No handles with labels found to put in legend.\n"
     ]
    },
    {
     "name": "stdout",
     "output_type": "stream",
     "text": [
      "그림 저장: pog neg label distribution m\n"
     ]
    },
    {
     "data": {
      "image/png": "[encoded data removed]",
      "text/plain": [
       "<Figure size 1440x720 with 1 Axes>"
      ]
     },
     "metadata": {},
     "output_type": "display_data"
    }
   ],
   "source": [
    "# minister\n",
    "plt.figure(figsize=(20,10))\n",
    "plot = sns.countplot(minister['label_word'])\n",
    "plot.set_xticklabels(plot.get_xticklabels(), rotation=45, horizontalalignment='right')\n",
    "plt.title('label_word distribution', fontsize=20)\n",
    "plt.legend(fontsize=15)\n",
    "# save_fig('pog neg label distribution m')"
   ]
  },
  {
   "cell_type": "code",
   "execution_count": 63,
   "id": "ad386394",
   "metadata": {
    "collapsed": true
   },
   "outputs": [
    {
     "name": "stderr",
     "output_type": "stream",
     "text": [
      "No handles with labels found to put in legend.\n"
     ]
    },
    {
     "data": {
      "text/plain": [
       "<matplotlib.legend.Legend at 0x1503befd0>"
      ]
     },
     "execution_count": 63,
     "metadata": {},
     "output_type": "execute_result"
    },
    {
     "data": {
      "image/png": "[encoded data removed]",
      "text/plain": [
       "<Figure size 1440x720 with 1 Axes>"
      ]
     },
     "metadata": {},
     "output_type": "display_data"
    }
   ],
   "source": [
    "# repeal\n",
    "plt.figure(figsize=(20,10))\n",
    "plot = sns.countplot(repeal['label_word'])\n",
    "plot.set_xticklabels(plot.get_xticklabels(), rotation=45, horizontalalignment='right')\n",
    "plt.title('label_word distribution', fontsize=20)\n",
    "plt.legend(fontsize=15)\n",
    "# save_fig('pog neg label distribution r')"
   ]
  },
  {
   "cell_type": "code",
   "execution_count": null,
   "id": "048cf619",
   "metadata": {},
   "outputs": [],
   "source": [
    "# sunburst 그래프\n",
    "# word2vec\n",
    "# network"
   ]
  }
 ],
 "metadata": {
  "kernelspec": {
   "display_name": "Python 3",
   "language": "python",
   "name": "python3"
  },
  "language_info": {
   "codemirror_mode": {
    "name": "ipython",
    "version": 3
   },
   "file_extension": ".py",
   "mimetype": "text/x-python",
   "name": "python",
   "nbconvert_exporter": "python",
   "pygments_lexer": "ipython3",
   "version": "3.8.6"
  }
 },
 "nbformat": 4,
 "nbformat_minor": 5
}
