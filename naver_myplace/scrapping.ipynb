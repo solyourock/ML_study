{
 "cells": [
  {
   "cell_type": "code",
   "execution_count": 4,
   "id": "3601415b",
   "metadata": {},
   "outputs": [],
   "source": [
    "import pandas as pd \n",
    "from selenium import webdriver \n",
    "from selenium.webdriver.common.keys import Keys \n",
    "from selenium.common.exceptions import NoSuchElementException\n",
    "import time \n",
    "import re \n",
    "from bs4 import BeautifulSoup \n",
    "from tqdm import tqdm "
   ]
  },
  {
   "cell_type": "code",
   "execution_count": 108,
   "id": "f32bdad6",
   "metadata": {},
   "outputs": [],
   "source": [
    "# css_selector 체크 함수 \n",
    "def check_exists_by_css(driver, text):\n",
    "    try:\n",
    "        driver.find_element_by_css_selector(text)\n",
    "    except NoSuchElementException:\n",
    "        return False\n",
    "    return True"
   ]
  },
  {
   "cell_type": "markdown",
   "id": "e6af2787",
   "metadata": {},
   "source": [
    "### 서울 지역별 맛집 이름 가져오기"
   ]
  },
  {
   "cell_type": "code",
   "execution_count": 2,
   "id": "6d788608",
   "metadata": {},
   "outputs": [],
   "source": [
    "driver = webdriver.Chrome('/Users/sol/Downloads/chromedriver')\n",
    "\n",
    "keyword = ['강서구 맛집', '양천구 맛집', '구로구 맛집', '금천구 맛집', '영등포구 맛집', '동작구 맛집', '관악구 맛집', '서초구 맛집', '강남구 맛집', '송파구 맛집', '강동구 맛집',\n",
    "          '마포구 맛집', '용산구 맛집', '성동구 맛집', '광진구 맛집', '서대문구 맛집', '중구 맛집', '동대문구 맛집', '중랑구 맛집', '성북구 맛집', '은평구 맛집', '강북구 맛집', '도붕구 맛집', '노원구 맛집']\n",
    "\n",
    "def scrapping(keyword):\n",
    "    word_list = []\n",
    "    df = pd.DataFrame()\n",
    "    naver_map_search_url = f'https://map.naver.com/v5/search/{keyword}/place'\n",
    "    driver.get(naver_map_search_url)\n",
    "    time.sleep(2)\n",
    "    driver.switch_to.frame('searchIframe')\n",
    "    time.sleep(2)\n",
    "\n",
    "    for i in range(1,7):\n",
    "        click = driver.find_element_by_xpath(f'//*[@id=\"app-root\"]/div/div[2]/div[2]/a[{i}]')\n",
    "        click.click()\n",
    "\n",
    "        scroll_div = driver.find_element_by_xpath(\"/html/body/div[3]/div/div[2]/div[1]\")\n",
    "        driver.execute_script(\"arguments[0].scrollBy(0,2000)\", scroll_div)\n",
    "        time.sleep(2)\n",
    "        driver.execute_script(\"arguments[0].scrollBy(0,2000)\", scroll_div)\n",
    "        time.sleep(2)\n",
    "        driver.execute_script(\"arguments[0].scrollBy(0,2000)\", scroll_div)\n",
    "        time.sleep(2)\n",
    "        driver.execute_script(\"arguments[0].scrollBy(0,2000)\", scroll_div)\n",
    "        time.sleep(2)\n",
    "        driver.execute_script(\"arguments[0].scrollBy(0,2000)\", scroll_div)\n",
    "        time.sleep(2)\n",
    "\n",
    "        words = driver.find_elements_by_class_name('OXiLu')\n",
    "        word = [word.text for word in words]\n",
    "        word_list += word\n",
    "            \n",
    "    df['title'] = word_list\n",
    "    df['keyword'] = keyword\n",
    "\n",
    "    return df "
   ]
  },
  {
   "cell_type": "code",
   "execution_count": null,
   "id": "cab03bc4",
   "metadata": {},
   "outputs": [],
   "source": [
    "full = pd.DataFrame()\n",
    "\n",
    "for i in range(len(keyword)):\n",
    "    test = scrapping(keyword[i])\n",
    "    full = pd.concat([full, test], axis=0)"
   ]
  },
  {
   "cell_type": "markdown",
   "id": "7a57ec62",
   "metadata": {},
   "source": [
    "### 맛집 이름으로 url 가져오기"
   ]
  },
  {
   "cell_type": "code",
   "execution_count": null,
   "id": "a0f946f6",
   "metadata": {},
   "outputs": [],
   "source": [
    "full = full.drop_duplicates()\n",
    "full = full.reset_index(drop=True)\n",
    "\n",
    "full['naver_map_url'] = ''\n",
    "title = full['keyword'] + full['title']\n",
    "title[3397] = '성동구 맛집봉순이네다락방'"
   ]
  },
  {
   "cell_type": "code",
   "execution_count": null,
   "id": "cb38b649",
   "metadata": {},
   "outputs": [],
   "source": [
    "for i, keyword in enumerate(title.tolist()): \n",
    "    print(\"이번에 찾을 키워드 :\", i, f\"/ {title.shape[0]} 행\", keyword) \n",
    "    try: \n",
    "        naver_map_search_url = f'https://map.naver.com/v5/search/{keyword}/place' # 검색 url 만들기 \n",
    "        driver.get(naver_map_search_url) # 검색 url 접속, 즉 검색하기 \n",
    "        time.sleep(3)\n",
    "        driver.switch_to.frame('searchIframe')\n",
    "        time.sleep(3) \n",
    "        \n",
    "        try:\n",
    "            click = driver.find_element_by_xpath('/html/body/div[3]/div/div/div[1]/ul/li[1]/div[2]/a[1]/div/div/span[1]')\n",
    "            click.click()\n",
    "        except:\n",
    "            pass\n",
    "        \n",
    "        cu = driver.current_url # 검색이 성공된 플레이스에 대한 개별 페이지 \n",
    "        res_code = re.findall(r\"place/(\\d+)\", cu) \n",
    "        final_url = 'https://pcmap.place.naver.com/restaurant/'+res_code[0]+'/review/visitor#' \n",
    "        print(final_url) \n",
    "        full['naver_map_url'][i]=final_url \n",
    "        \n",
    "    except IndexError: \n",
    "        full['naver_map_url'][i]= '' \n",
    "        print('none') \n",
    "#         test.to_csv('url_completed.csv', encoding = 'utf-8-sig')"
   ]
  },
  {
   "cell_type": "markdown",
   "id": "42919e65",
   "metadata": {},
   "source": [
    "### 가져온 url로 식당이름, 주소, 카테고리 가져오기 (이름과 주소는 크로스 체크를 위해서)"
   ]
  },
  {
   "cell_type": "code",
   "execution_count": 9,
   "id": "d18d2514",
   "metadata": {},
   "outputs": [],
   "source": [
    "driver = webdriver.Chrome('/Users/sol/Downloads/chromedriver')"
   ]
  },
  {
   "cell_type": "code",
   "execution_count": 5,
   "id": "8a099351",
   "metadata": {},
   "outputs": [],
   "source": [
    "full = pd.read_csv('full.csv')"
   ]
  },
  {
   "cell_type": "code",
   "execution_count": 7,
   "id": "35c49ba1",
   "metadata": {},
   "outputs": [],
   "source": [
    "url = full['naver_map_url'].apply(lambda x:x.split('review')[0])\n",
    "full['naver_home_url'] = url.apply(lambda x:x+'home')"
   ]
  },
  {
   "cell_type": "code",
   "execution_count": null,
   "id": "ee3ed943",
   "metadata": {},
   "outputs": [],
   "source": [
    "name_list = []\n",
    "address_list = []\n",
    "restaurant_classificaton_list = []\n",
    "\n",
    "for i in range(len(full['naver_home_url'].tolist())):\n",
    "    first_url = full['naver_home_url'][i]\n",
    "    driver.get(first_url) \n",
    "    time.sleep(1)\n",
    "    name = driver.find_elements_by_class_name('_3XamX')[0].text\n",
    "    time.sleep(1)\n",
    "    address = driver.find_elements_by_class_name('_2yqUQ')[0].text\n",
    "    time.sleep(1)\n",
    "    restaurant_classificaton= driver.find_elements_by_class_name('_3ocDE')[0].text\n",
    "    time.sleep(1)\n",
    "    \n",
    "    name_list.append(name)\n",
    "    address_list.append(address)\n",
    "    restaurant_classificaton_list.append(restaurant_classificaton)  "
   ]
  },
  {
   "cell_type": "code",
   "execution_count": null,
   "id": "ce3716d1",
   "metadata": {},
   "outputs": [],
   "source": [
    "# full['new_title'] = name_list\n",
    "test['new_title'] = name_list\n",
    "# full['address'] = address_list\n",
    "test['address'] = address_list\n",
    "# full['category'] = restaurant_classificaton_list\n",
    "test['category'] = restaurant_classificaton_list"
   ]
  },
  {
   "cell_type": "markdown",
   "id": "77fd5b2c",
   "metadata": {},
   "source": [
    "### 평점, 아이디, 리뷰 가져오기"
   ]
  },
  {
   "cell_type": "code",
   "execution_count": null,
   "id": "4c97d415",
   "metadata": {},
   "outputs": [
    {
     "name": "stdout",
     "output_type": "stream",
     "text": [
      "식당 이름 : 오늘와인한잔 양천향교역점\n",
      "4.8\n",
      "식당 이름 : 오늘와인한잔 양천향교역점\n",
      "4.34\n"
     ]
    }
   ],
   "source": [
    "# 수집할 정보들 \n",
    "rating_list = [] # 평점 \n",
    "user_id_list = [] # 유저의 id - 추천시스템에서는 필수 \n",
    "\n",
    "for i in range(len(test['naver_map_url'])):\n",
    "    \n",
    "    url = full['naver_map_url'][i]\n",
    "    \n",
    "    driver.get(url) \n",
    "    time.sleep(2)\n",
    "    driver.find_element_by_css_selector('#app-root > div > div > div > div:nth-child(7) > div:nth-child(2) > div.place_section._1fQmI > h2 > a').click()\n",
    "\n",
    "    while True:  \n",
    "        driver.find_element_by_tag_name('body').send_keys(Keys.END) \n",
    "        time.sleep(3) \n",
    "        if check_exists_by_css(driver,'#app-root > div > div > div > div:nth-child(7) > div:nth-child(2) > div.place_section._1fQmI > div._2kAri > a'):\n",
    "            element = driver.find_element_by_css_selector('#app-root > div > div > div > div:nth-child(7) > div:nth-child(2) > div.place_section._1fQmI > div._2kAri > a')\n",
    "            element.click() \n",
    "            time.sleep(3) \n",
    "\n",
    "        else:\n",
    "            break\n",
    "\n",
    "    time.sleep(1)\n",
    "\n",
    "    # 식당 구분\n",
    "    restaurant_name = test['title'][i]\n",
    "    print('식당 이름 : '+restaurant_name) \n",
    "\n",
    "    avg = driver.find_element_by_css_selector(\"span[class='_1fvo3 Sv1wj']\")\n",
    "    avg_rate = avg.text\n",
    "    print (avg_rate)\n",
    "\n",
    "    div = driver.find_element_by_css_selector('#app-root > div > div > div > div:nth-child(7) > div:nth-child(2) > div.place_section._1fQmI > div')\n",
    "    li = div.find_elements_by_class_name('_3FaRE')\n",
    "\n",
    "    user_ids = div.find_elements_by_class_name('_16RxQ')\n",
    "    user_id_list = [user_id.text for user_id in user_ids]\n",
    "\n",
    "    for i in li:\n",
    "        if check_exists_by_css(i,\"span[class='_1fvo3 Sv1wj']\"):\n",
    "            rating = i.find_element_by_css_selector(\"span[class='_1fvo3 Sv1wj']\")\n",
    "            rate = rating.text\n",
    "            rating_list.append(rate)\n",
    "        else:\n",
    "            rating_list.append('')\n",
    "    \n",
    "    output = {}\n",
    "\n",
    "    output['name'] = restaurant_name\n",
    "    output['user_id'] = user_id_list\n",
    "\n",
    "    output_df = pd.DataFrame(output)\n",
    "    \n",
    "    test = pd.merge(test, output_df, how='outer', left_on='title', right_on='name')\n"
   ]
  },
  {
   "cell_type": "code",
   "execution_count": 1,
   "id": "97665268",
   "metadata": {},
   "outputs": [
    {
     "ename": "NameError",
     "evalue": "name 'test' is not defined",
     "output_type": "error",
     "traceback": [
      "\u001b[0;31m---------------------------------------------------------------------------\u001b[0m",
      "\u001b[0;31mNameError\u001b[0m                                 Traceback (most recent call last)",
      "\u001b[0;32m<ipython-input-1-4e1243bd22c6>\u001b[0m in \u001b[0;36m<module>\u001b[0;34m\u001b[0m\n\u001b[0;32m----> 1\u001b[0;31m \u001b[0mtest\u001b[0m\u001b[0;34m\u001b[0m\u001b[0;34m\u001b[0m\u001b[0m\n\u001b[0m",
      "\u001b[0;31mNameError\u001b[0m: name 'test' is not defined"
     ]
    }
   ],
   "source": [
    "test"
   ]
  },
  {
   "cell_type": "code",
   "execution_count": null,
   "id": "c9757f76",
   "metadata": {},
   "outputs": [],
   "source": [
    "test"
   ]
  },
  {
   "cell_type": "code",
   "execution_count": 223,
   "id": "007e87be",
   "metadata": {},
   "outputs": [],
   "source": [
    "driver.quit()"
   ]
  },
  {
   "cell_type": "code",
   "execution_count": 226,
   "id": "0e6b2d84",
   "metadata": {
    "collapsed": true
   },
   "outputs": [
    {
     "ename": "NoSuchElementException",
     "evalue": "Message: no such element: Unable to locate element: {\"method\":\"css selector\",\"selector\":\"#app-root > div > div > div > div:nth-child(7) > div:nth-child(2) > div.place_section._1fQmI > h2 > a\"}\n  (Session info: chrome=101.0.4951.54)\n",
     "output_type": "error",
     "traceback": [
      "\u001b[0;31m---------------------------------------------------------------------------\u001b[0m",
      "\u001b[0;31mNoSuchElementException\u001b[0m                    Traceback (most recent call last)",
      "\u001b[0;32m<ipython-input-226-3b05c3140998>\u001b[0m in \u001b[0;36m<module>\u001b[0;34m\u001b[0m\n\u001b[1;32m      6\u001b[0m \u001b[0mdriver\u001b[0m\u001b[0;34m.\u001b[0m\u001b[0mget\u001b[0m\u001b[0;34m(\u001b[0m\u001b[0murl\u001b[0m\u001b[0;34m)\u001b[0m\u001b[0;34m\u001b[0m\u001b[0;34m\u001b[0m\u001b[0m\n\u001b[1;32m      7\u001b[0m \u001b[0mtime\u001b[0m\u001b[0;34m.\u001b[0m\u001b[0msleep\u001b[0m\u001b[0;34m(\u001b[0m\u001b[0;36m2\u001b[0m\u001b[0;34m)\u001b[0m\u001b[0;34m\u001b[0m\u001b[0;34m\u001b[0m\u001b[0m\n\u001b[0;32m----> 8\u001b[0;31m \u001b[0mdriver\u001b[0m\u001b[0;34m.\u001b[0m\u001b[0mfind_element_by_css_selector\u001b[0m\u001b[0;34m(\u001b[0m\u001b[0;34m'#app-root > div > div > div > div:nth-child(7) > div:nth-child(2) > div.place_section._1fQmI > h2 > a'\u001b[0m\u001b[0;34m)\u001b[0m\u001b[0;34m.\u001b[0m\u001b[0mclick\u001b[0m\u001b[0;34m(\u001b[0m\u001b[0;34m)\u001b[0m\u001b[0;34m\u001b[0m\u001b[0;34m\u001b[0m\u001b[0m\n\u001b[0m\u001b[1;32m      9\u001b[0m \u001b[0;34m\u001b[0m\u001b[0m\n\u001b[1;32m     10\u001b[0m \u001b[0;32mwhile\u001b[0m \u001b[0;32mTrue\u001b[0m\u001b[0;34m:\u001b[0m\u001b[0;34m\u001b[0m\u001b[0;34m\u001b[0m\u001b[0m\n",
      "\u001b[0;32m~/miniforge3/envs/m1/lib/python3.8/site-packages/selenium/webdriver/remote/webdriver.py\u001b[0m in \u001b[0;36mfind_element_by_css_selector\u001b[0;34m(self, css_selector)\u001b[0m\n\u001b[1;32m    596\u001b[0m             \u001b[0melement\u001b[0m \u001b[0;34m=\u001b[0m \u001b[0mdriver\u001b[0m\u001b[0;34m.\u001b[0m\u001b[0mfind_element_by_css_selector\u001b[0m\u001b[0;34m(\u001b[0m\u001b[0;34m'#foo'\u001b[0m\u001b[0;34m)\u001b[0m\u001b[0;34m\u001b[0m\u001b[0;34m\u001b[0m\u001b[0m\n\u001b[1;32m    597\u001b[0m         \"\"\"\n\u001b[0;32m--> 598\u001b[0;31m         \u001b[0;32mreturn\u001b[0m \u001b[0mself\u001b[0m\u001b[0;34m.\u001b[0m\u001b[0mfind_element\u001b[0m\u001b[0;34m(\u001b[0m\u001b[0mby\u001b[0m\u001b[0;34m=\u001b[0m\u001b[0mBy\u001b[0m\u001b[0;34m.\u001b[0m\u001b[0mCSS_SELECTOR\u001b[0m\u001b[0;34m,\u001b[0m \u001b[0mvalue\u001b[0m\u001b[0;34m=\u001b[0m\u001b[0mcss_selector\u001b[0m\u001b[0;34m)\u001b[0m\u001b[0;34m\u001b[0m\u001b[0;34m\u001b[0m\u001b[0m\n\u001b[0m\u001b[1;32m    599\u001b[0m \u001b[0;34m\u001b[0m\u001b[0m\n\u001b[1;32m    600\u001b[0m     \u001b[0;32mdef\u001b[0m \u001b[0mfind_elements_by_css_selector\u001b[0m\u001b[0;34m(\u001b[0m\u001b[0mself\u001b[0m\u001b[0;34m,\u001b[0m \u001b[0mcss_selector\u001b[0m\u001b[0;34m)\u001b[0m\u001b[0;34m:\u001b[0m\u001b[0;34m\u001b[0m\u001b[0;34m\u001b[0m\u001b[0m\n",
      "\u001b[0;32m~/miniforge3/envs/m1/lib/python3.8/site-packages/selenium/webdriver/remote/webdriver.py\u001b[0m in \u001b[0;36mfind_element\u001b[0;34m(self, by, value)\u001b[0m\n\u001b[1;32m    974\u001b[0m                 \u001b[0mby\u001b[0m \u001b[0;34m=\u001b[0m \u001b[0mBy\u001b[0m\u001b[0;34m.\u001b[0m\u001b[0mCSS_SELECTOR\u001b[0m\u001b[0;34m\u001b[0m\u001b[0;34m\u001b[0m\u001b[0m\n\u001b[1;32m    975\u001b[0m                 \u001b[0mvalue\u001b[0m \u001b[0;34m=\u001b[0m \u001b[0;34m'[name=\"%s\"]'\u001b[0m \u001b[0;34m%\u001b[0m \u001b[0mvalue\u001b[0m\u001b[0;34m\u001b[0m\u001b[0;34m\u001b[0m\u001b[0m\n\u001b[0;32m--> 976\u001b[0;31m         return self.execute(Command.FIND_ELEMENT, {\n\u001b[0m\u001b[1;32m    977\u001b[0m             \u001b[0;34m'using'\u001b[0m\u001b[0;34m:\u001b[0m \u001b[0mby\u001b[0m\u001b[0;34m,\u001b[0m\u001b[0;34m\u001b[0m\u001b[0;34m\u001b[0m\u001b[0m\n\u001b[1;32m    978\u001b[0m             'value': value})['value']\n",
      "\u001b[0;32m~/miniforge3/envs/m1/lib/python3.8/site-packages/selenium/webdriver/remote/webdriver.py\u001b[0m in \u001b[0;36mexecute\u001b[0;34m(self, driver_command, params)\u001b[0m\n\u001b[1;32m    319\u001b[0m         \u001b[0mresponse\u001b[0m \u001b[0;34m=\u001b[0m \u001b[0mself\u001b[0m\u001b[0;34m.\u001b[0m\u001b[0mcommand_executor\u001b[0m\u001b[0;34m.\u001b[0m\u001b[0mexecute\u001b[0m\u001b[0;34m(\u001b[0m\u001b[0mdriver_command\u001b[0m\u001b[0;34m,\u001b[0m \u001b[0mparams\u001b[0m\u001b[0;34m)\u001b[0m\u001b[0;34m\u001b[0m\u001b[0;34m\u001b[0m\u001b[0m\n\u001b[1;32m    320\u001b[0m         \u001b[0;32mif\u001b[0m \u001b[0mresponse\u001b[0m\u001b[0;34m:\u001b[0m\u001b[0;34m\u001b[0m\u001b[0;34m\u001b[0m\u001b[0m\n\u001b[0;32m--> 321\u001b[0;31m             \u001b[0mself\u001b[0m\u001b[0;34m.\u001b[0m\u001b[0merror_handler\u001b[0m\u001b[0;34m.\u001b[0m\u001b[0mcheck_response\u001b[0m\u001b[0;34m(\u001b[0m\u001b[0mresponse\u001b[0m\u001b[0;34m)\u001b[0m\u001b[0;34m\u001b[0m\u001b[0;34m\u001b[0m\u001b[0m\n\u001b[0m\u001b[1;32m    322\u001b[0m             response['value'] = self._unwrap_value(\n\u001b[1;32m    323\u001b[0m                 response.get('value', None))\n",
      "\u001b[0;32m~/miniforge3/envs/m1/lib/python3.8/site-packages/selenium/webdriver/remote/errorhandler.py\u001b[0m in \u001b[0;36mcheck_response\u001b[0;34m(self, response)\u001b[0m\n\u001b[1;32m    240\u001b[0m                 \u001b[0malert_text\u001b[0m \u001b[0;34m=\u001b[0m \u001b[0mvalue\u001b[0m\u001b[0;34m[\u001b[0m\u001b[0;34m'alert'\u001b[0m\u001b[0;34m]\u001b[0m\u001b[0;34m.\u001b[0m\u001b[0mget\u001b[0m\u001b[0;34m(\u001b[0m\u001b[0;34m'text'\u001b[0m\u001b[0;34m)\u001b[0m\u001b[0;34m\u001b[0m\u001b[0;34m\u001b[0m\u001b[0m\n\u001b[1;32m    241\u001b[0m             \u001b[0;32mraise\u001b[0m \u001b[0mexception_class\u001b[0m\u001b[0;34m(\u001b[0m\u001b[0mmessage\u001b[0m\u001b[0;34m,\u001b[0m \u001b[0mscreen\u001b[0m\u001b[0;34m,\u001b[0m \u001b[0mstacktrace\u001b[0m\u001b[0;34m,\u001b[0m \u001b[0malert_text\u001b[0m\u001b[0;34m)\u001b[0m\u001b[0;34m\u001b[0m\u001b[0;34m\u001b[0m\u001b[0m\n\u001b[0;32m--> 242\u001b[0;31m         \u001b[0;32mraise\u001b[0m \u001b[0mexception_class\u001b[0m\u001b[0;34m(\u001b[0m\u001b[0mmessage\u001b[0m\u001b[0;34m,\u001b[0m \u001b[0mscreen\u001b[0m\u001b[0;34m,\u001b[0m \u001b[0mstacktrace\u001b[0m\u001b[0;34m)\u001b[0m\u001b[0;34m\u001b[0m\u001b[0;34m\u001b[0m\u001b[0m\n\u001b[0m\u001b[1;32m    243\u001b[0m \u001b[0;34m\u001b[0m\u001b[0m\n\u001b[1;32m    244\u001b[0m     \u001b[0;32mdef\u001b[0m \u001b[0m_value_or_default\u001b[0m\u001b[0;34m(\u001b[0m\u001b[0mself\u001b[0m\u001b[0;34m,\u001b[0m \u001b[0mobj\u001b[0m\u001b[0;34m,\u001b[0m \u001b[0mkey\u001b[0m\u001b[0;34m,\u001b[0m \u001b[0mdefault\u001b[0m\u001b[0;34m)\u001b[0m\u001b[0;34m:\u001b[0m\u001b[0;34m\u001b[0m\u001b[0;34m\u001b[0m\u001b[0m\n",
      "\u001b[0;31mNoSuchElementException\u001b[0m: Message: no such element: Unable to locate element: {\"method\":\"css selector\",\"selector\":\"#app-root > div > div > div > div:nth-child(7) > div:nth-child(2) > div.place_section._1fQmI > h2 > a\"}\n  (Session info: chrome=101.0.4951.54)\n"
     ]
    }
   ],
   "source": [
    "# 수집할 정보들 \n",
    "rating_list = [] # 평점 \n",
    "user_id_list = [] # 유저의 id - 추천시스템에서는 필수 \n",
    "\n",
    "\n",
    "driver.get(url) \n",
    "time.sleep(2)\n",
    "driver.find_element_by_css_selector('#app-root > div > div > div > div:nth-child(7) > div:nth-child(2) > div.place_section._1fQmI > h2 > a').click()\n",
    "\n",
    "while True:  \n",
    "    driver.find_element_by_tag_name('body').send_keys(Keys.END) \n",
    "    time.sleep(3) \n",
    "    if check_exists_by_css(driver,'#app-root > div > div > div > div:nth-child(7) > div:nth-child(2) > div.place_section._1fQmI > div._2kAri > a'):\n",
    "        element = driver.find_element_by_css_selector('#app-root > div > div > div > div:nth-child(7) > div:nth-child(2) > div.place_section._1fQmI > div._2kAri > a')\n",
    "        element.click() \n",
    "        time.sleep(3) \n",
    "        \n",
    "    else:\n",
    "        break\n",
    "        \n",
    "time.sleep(1)\n",
    " \n",
    "# 식당 구분\n",
    "restaurant_name = test['title'][1]\n",
    "print('식당 이름 : '+restaurant_name) \n",
    "\n",
    "avg = driver.find_element_by_css_selector(\"span[class='_1fvo3 Sv1wj']\")\n",
    "avg_rate = avg.text\n",
    "print (avg_rate)\n",
    "\n",
    "div = driver.find_element_by_css_selector('#app-root > div > div > div > div:nth-child(7) > div:nth-child(2) > div.place_section._1fQmI > div')\n",
    "li = div.find_elements_by_class_name('_3FaRE')\n",
    "\n",
    "user_ids = div.find_elements_by_class_name('_16RxQ')\n",
    "user_id_list = [user_id.text for user_id in user_ids]\n",
    "\n",
    "\n",
    "\n",
    "\n",
    "for i in li:\n",
    "    if check_exists_by_css(i,\"span[class='_1fvo3 Sv1wj']\"):\n",
    "        rating = i.find_element_by_css_selector(\"span[class='_1fvo3 Sv1wj']\")\n",
    "        rate = rating.text\n",
    "        rating_list.append(rate)\n",
    "    else:\n",
    "        rating_list.append('')\n",
    "\n",
    "\n",
    "\n",
    "#app-root > div > div > div > div:nth-child(7) > div:nth-child(2) > div.place_section._1fQmI > div > ul > li:nth-child(97) > div._3-LAD > span._1fvo3.Sv1wj > em"
   ]
  }
 ],
 "metadata": {
  "kernelspec": {
   "display_name": "Python 3",
   "language": "python",
   "name": "python3"
  },
  "language_info": {
   "codemirror_mode": {
    "name": "ipython",
    "version": 3
   },
   "file_extension": ".py",
   "mimetype": "text/x-python",
   "name": "python",
   "nbconvert_exporter": "python",
   "pygments_lexer": "ipython3",
   "version": "3.8.6"
  }
 },
 "nbformat": 4,
 "nbformat_minor": 5
}
