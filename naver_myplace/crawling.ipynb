{
 "cells": [
  {
   "cell_type": "code",
   "execution_count": 1,
   "id": "319be3a4",
   "metadata": {},
   "outputs": [],
   "source": [
    "import pandas as pd \n",
    "from selenium import webdriver \n",
    "from selenium.webdriver.common.keys import Keys \n",
    "from selenium.common.exceptions import NoSuchElementException \n",
    "import time \n",
    "import re \n",
    "from bs4 import BeautifulSoup \n",
    "from tqdm import tqdm\n",
    "from webdriver_manager.chrome import ChromeDriverManager\n",
    "import requests"
   ]
  },
  {
   "cell_type": "code",
   "execution_count": 2,
   "id": "48751fc7",
   "metadata": {},
   "outputs": [
    {
     "name": "stderr",
     "output_type": "stream",
     "text": [
      "\n",
      "\n",
      "====== WebDriver manager ======\n",
      "Current google-chrome version is 101.0.4951\n",
      "Get LATEST chromedriver version for 101.0.4951 google-chrome\n",
      "Driver [/Users/sol/.wdm/drivers/chromedriver/mac64_m1/101.0.4951.41/chromedriver] found in cache\n"
     ]
    }
   ],
   "source": [
    "driver = webdriver.Chrome(ChromeDriverManager().install())"
   ]
  },
  {
   "cell_type": "code",
   "execution_count": 3,
   "id": "931e436b",
   "metadata": {},
   "outputs": [],
   "source": [
    "keyword = ['강서구 맛집', '양천구 맛집', '구로구 맛집', '금천구 맛집', '영등포구 맛집', '동작구 맛집', '관악구 맛집', '서초구 맛집', '강남구 맛집', '송파구 맛집', '강동구 맛집',\n",
    "          '마포구 맛집', '용산구 맛집', '성동구 맛집', '광진구 맛집', '서대문구 맛집', '중구 맛집', '동대문구 맛집', '중랑구 맛집', '성북구 맛집', '은평구 맛집', '강북구 맛집', '도붕구 맛집', '노원구 맛집']"
   ]
  },
  {
   "cell_type": "code",
   "execution_count": null,
   "id": "de58921a",
   "metadata": {},
   "outputs": [],
   "source": [
    "keyword2 = ['고성군 맛집', '속초시 맛집', '양양군 맛집', '강릉시 맛집', '동해시 맛집', '삼척시 맛집', '태백시 맛집', '정선군 맛집', \n",
    "            '영월군 맛집', '평창군 맛집', '횡성군 맛집', '원주시 맛집', '홍천군 맛집', '인제군 맛집', '양구군 맛집', '화천군 맛집', \n",
    "            '춘천시 맛집', '철원군 맛집']"
   ]
  },
  {
   "cell_type": "code",
   "execution_count": 4,
   "id": "6fba6147",
   "metadata": {},
   "outputs": [],
   "source": [
    "word_list = []\n",
    "page_list = []"
   ]
  },
  {
   "cell_type": "code",
   "execution_count": 36,
   "id": "521ce2d8",
   "metadata": {},
   "outputs": [],
   "source": [
    "def scarping_title(keyword):\n",
    "    \n",
    "    word_list = []\n",
    "    page_list = []\n",
    "    \n",
    "    for i, word in enumerate(keyword):\n",
    "        naver_map_search_url = f'https://map.naver.com/v5/search/{word}/place'\n",
    "        driver.get(naver_map_search_url)\n",
    "        time.sleep(2)\n",
    "        driver.switch_to.frame('searchIframe')\n",
    "        time.sleep(2)\n",
    "\n",
    "        for i in range(1, 7):\n",
    "            time.sleep(5)\n",
    "            page_list.append(i)\n",
    "            try :\n",
    "                click = driver.find_element_by_xpath(f'//*[@id=\"app-root\"]/div/div[2]/div[2]/a[{i}]')\n",
    "                click.click()\n",
    "                req = driver.page_source\n",
    "                soup = BeautifulSoup(req, 'html.parser')\n",
    "            except : \n",
    "                pass\n",
    "\n",
    "            for i in range(1, 11):\n",
    "                title = soup.select_one(f'#_pcmap_list_scroll_container > ul > li:nth-of-type({i}) > div._3hn9q > a > div.O9Z-o > div > span.OXiLu').get_text()\n",
    "            #     word = title.get_text()\n",
    "                word_list.append(title)\n",
    "    return word_list"
   ]
  },
  {
   "cell_type": "code",
   "execution_count": 6,
   "id": "e7c555aa",
   "metadata": {},
   "outputs": [],
   "source": [
    "seoul = scarping_title(keyword)"
   ]
  },
  {
   "cell_type": "code",
   "execution_count": 16,
   "id": "aef87e3c",
   "metadata": {},
   "outputs": [],
   "source": [
    "word_list = []\n",
    "page_list = []"
   ]
  },
  {
   "cell_type": "code",
   "execution_count": 17,
   "id": "b604149b",
   "metadata": {},
   "outputs": [],
   "source": [
    "kangwon = scarping_title(keyword2)"
   ]
  },
  {
   "cell_type": "code",
   "execution_count": 10,
   "id": "3ed00ede",
   "metadata": {},
   "outputs": [
    {
     "data": {
      "text/plain": [
       "2520"
      ]
     },
     "execution_count": 10,
     "metadata": {},
     "output_type": "execute_result"
    }
   ],
   "source": [
    "len(seoul)"
   ]
  },
  {
   "cell_type": "code",
   "execution_count": 19,
   "id": "14a65ef6",
   "metadata": {},
   "outputs": [
    {
     "data": {
      "text/plain": [
       "1080"
      ]
     },
     "execution_count": 19,
     "metadata": {},
     "output_type": "execute_result"
    }
   ],
   "source": [
    "len(kangwon)"
   ]
  },
  {
   "cell_type": "code",
   "execution_count": 33,
   "id": "fe4baac6",
   "metadata": {},
   "outputs": [],
   "source": [
    "keywords3 = ['부산 강서구 맛집', '사상구 맛집', '사하구 맛집', '영도구 맛집', '부산 중구 맛집', '부산 서구 맛집', '부산 동구 맛집', \n",
    "            '부산 남구 맛집', '부산 북구 맛집', '수영구 맛집', '해운대구 맛집', '기장군 맛집', '금정구 맛집', '동래구 맛집', '연제구 맛집', '부산진구 맛집' ]"
   ]
  },
  {
   "cell_type": "code",
   "execution_count": 34,
   "id": "b120de69",
   "metadata": {},
   "outputs": [],
   "source": [
    "busan = scarping_title(keywords3)"
   ]
  },
  {
   "cell_type": "code",
   "execution_count": 35,
   "id": "9196f8bb",
   "metadata": {},
   "outputs": [
    {
     "data": {
      "text/plain": [
       "960"
      ]
     },
     "execution_count": 35,
     "metadata": {},
     "output_type": "execute_result"
    }
   ],
   "source": [
    "len(busan)"
   ]
  },
  {
   "cell_type": "code",
   "execution_count": 39,
   "id": "6a4b224d",
   "metadata": {},
   "outputs": [],
   "source": [
    "keywords4 = ['목포시 맛집', '여수시 맛집', '순천시 맛집', '나주시 맛집', '광양시 맛집', '담양군 맛집', '곡성군 맛집', \n",
    "             '구례군 맛집', '고흥군 맛집', '보성군 맛집', '화순군 맛집', '장흥군 맛집', '강진군 맛집', '해남군 맛집', \n",
    "             '영양군 맛집', '무안군 맛집', '함평군 맛집', '영광군 맛집', '장성군 맛집', '완도군 맛집', '진도군 맛집',\n",
    "             '신안군 맛집',]"
   ]
  },
  {
   "cell_type": "code",
   "execution_count": 40,
   "id": "765ddb23",
   "metadata": {},
   "outputs": [],
   "source": [
    "jeonnam = scarping_title(keywords4)"
   ]
  },
  {
   "cell_type": "code",
   "execution_count": 41,
   "id": "17d65241",
   "metadata": {},
   "outputs": [
    {
     "data": {
      "text/plain": [
       "1320"
      ]
     },
     "execution_count": 41,
     "metadata": {},
     "output_type": "execute_result"
    }
   ],
   "source": [
    "len(jeonnam)"
   ]
  },
  {
   "cell_type": "code",
   "execution_count": 43,
   "id": "ac6c0779",
   "metadata": {},
   "outputs": [
    {
     "data": {
      "text/plain": [
       "5880"
      ]
     },
     "execution_count": 43,
     "metadata": {},
     "output_type": "execute_result"
    }
   ],
   "source": [
    "2520 + 1080 + 960 + 1320"
   ]
  },
  {
   "cell_type": "code",
   "execution_count": 44,
   "id": "11ce8531",
   "metadata": {},
   "outputs": [],
   "source": [
    "df = pd.DataFrame()"
   ]
  },
  {
   "cell_type": "code",
   "execution_count": 45,
   "id": "2fe00ed4",
   "metadata": {},
   "outputs": [],
   "source": [
    "df['title'] = seoul + kangwon + busan + jeonnam"
   ]
  },
  {
   "cell_type": "code",
   "execution_count": 46,
   "id": "f0c5253a",
   "metadata": {
    "collapsed": true
   },
   "outputs": [
    {
     "data": {
      "text/html": [
       "<div>\n",
       "<style scoped>\n",
       "    .dataframe tbody tr th:only-of-type {\n",
       "        vertical-align: middle;\n",
       "    }\n",
       "\n",
       "    .dataframe tbody tr th {\n",
       "        vertical-align: top;\n",
       "    }\n",
       "\n",
       "    .dataframe thead th {\n",
       "        text-align: right;\n",
       "    }\n",
       "</style>\n",
       "<table border=\"1\" class=\"dataframe\">\n",
       "  <thead>\n",
       "    <tr style=\"text-align: right;\">\n",
       "      <th></th>\n",
       "      <th>title</th>\n",
       "    </tr>\n",
       "  </thead>\n",
       "  <tbody>\n",
       "    <tr>\n",
       "      <th>0</th>\n",
       "      <td>구락</td>\n",
       "    </tr>\n",
       "    <tr>\n",
       "      <th>1</th>\n",
       "      <td>샐러드식당 등촌본점</td>\n",
       "    </tr>\n",
       "    <tr>\n",
       "      <th>2</th>\n",
       "      <td>조선갈비</td>\n",
       "    </tr>\n",
       "    <tr>\n",
       "      <th>3</th>\n",
       "      <td>팔각도 발산역점</td>\n",
       "    </tr>\n",
       "    <tr>\n",
       "      <th>4</th>\n",
       "      <td>경아식당 본점</td>\n",
       "    </tr>\n",
       "    <tr>\n",
       "      <th>...</th>\n",
       "      <td>...</td>\n",
       "    </tr>\n",
       "    <tr>\n",
       "      <th>5875</th>\n",
       "      <td>젬마수산</td>\n",
       "    </tr>\n",
       "    <tr>\n",
       "      <th>5876</th>\n",
       "      <td>안동식육식당</td>\n",
       "    </tr>\n",
       "    <tr>\n",
       "      <th>5877</th>\n",
       "      <td>행복한카페</td>\n",
       "    </tr>\n",
       "    <tr>\n",
       "      <th>5878</th>\n",
       "      <td>봉자네1번지</td>\n",
       "    </tr>\n",
       "    <tr>\n",
       "      <th>5879</th>\n",
       "      <td>바다식당</td>\n",
       "    </tr>\n",
       "  </tbody>\n",
       "</table>\n",
       "<p>5880 rows × 1 columns</p>\n",
       "</div>"
      ],
      "text/plain": [
       "           title\n",
       "0             구락\n",
       "1     샐러드식당 등촌본점\n",
       "2           조선갈비\n",
       "3       팔각도 발산역점\n",
       "4        경아식당 본점\n",
       "...          ...\n",
       "5875        젬마수산\n",
       "5876      안동식육식당\n",
       "5877       행복한카페\n",
       "5878      봉자네1번지\n",
       "5879        바다식당\n",
       "\n",
       "[5880 rows x 1 columns]"
      ]
     },
     "execution_count": 46,
     "metadata": {},
     "output_type": "execute_result"
    }
   ],
   "source": [
    "df.to_csv('crawling_title1.csv', index=Fals)"
   ]
  },
  {
   "cell_type": "code",
   "execution_count": null,
   "id": "0c85a439",
   "metadata": {},
   "outputs": [],
   "source": [
    "# 페이지 클릭\n",
    "# click = driver.find_element_by_xpath('//*[@id=\"app-root\"]/div/div[2]/div[2]/a[3]')\n",
    "# click.click()"
   ]
  },
  {
   "cell_type": "code",
   "execution_count": null,
   "id": "3e76f101",
   "metadata": {},
   "outputs": [],
   "source": [
    "# //*[@id=\"app-root\"]/div/div[2]/div[2]/a[1]\n",
    "# //*[@id=\"app-root\"]/div/div[2]/div[2]/a[2]\n",
    "# //*[@id=\"app-root\"]/div/div[2]/div[2]/a[3]\n",
    "# //*[@id=\"app-root\"]/div/div[2]/div[2]/a[4]\n",
    "# //*[@id=\"app-root\"]/div/div[2]/div[2]/a[5]\n",
    "# //*[@id=\"app-root\"]/div/div[2]/div[2]/a[6]"
   ]
  },
  {
   "cell_type": "code",
   "execution_count": null,
   "id": "fda2ed8f",
   "metadata": {},
   "outputs": [],
   "source": []
  }
 ],
 "metadata": {
  "kernelspec": {
   "display_name": "Python 3",
   "language": "python",
   "name": "python3"
  },
  "language_info": {
   "codemirror_mode": {
    "name": "ipython",
    "version": 3
   },
   "file_extension": ".py",
   "mimetype": "text/x-python",
   "name": "python",
   "nbconvert_exporter": "python",
   "pygments_lexer": "ipython3",
   "version": "3.8.6"
  }
 },
 "nbformat": 4,
 "nbformat_minor": 5
}
