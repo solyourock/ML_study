{
 "cells": [
  {
   "cell_type": "code",
   "execution_count": 1,
   "id": "319be3a4",
   "metadata": {},
   "outputs": [],
   "source": [
    "import pandas as pd \n",
    "from selenium import webdriver \n",
    "from selenium.webdriver.common.keys import Keys \n",
    "from selenium.common.exceptions import NoSuchElementException \n",
    "import time \n",
    "import re \n",
    "from bs4 import BeautifulSoup \n",
    "from tqdm import tqdm"
   ]
  },
  {
   "cell_type": "code",
   "execution_count": 2,
   "id": "204e5a89",
   "metadata": {},
   "outputs": [],
   "source": [
    "import requests"
   ]
  },
  {
   "cell_type": "code",
   "execution_count": 3,
   "id": "bebf0ed9",
   "metadata": {},
   "outputs": [],
   "source": [
    "# !pip install webdriver-manager"
   ]
  },
  {
   "cell_type": "code",
   "execution_count": 4,
   "id": "43da18b9",
   "metadata": {},
   "outputs": [
    {
     "name": "stderr",
     "output_type": "stream",
     "text": [
      "\n",
      "\n",
      "====== WebDriver manager ======\n",
      "Current google-chrome version is 101.0.4951\n",
      "Get LATEST chromedriver version for 101.0.4951 google-chrome\n",
      "Driver [/Users/sol/.wdm/drivers/chromedriver/mac64_m1/101.0.4951.41/chromedriver] found in cache\n"
     ]
    }
   ],
   "source": [
    "from webdriver_manager.chrome import ChromeDriverManager\n",
    "\n",
    "driver = webdriver.Chrome(ChromeDriverManager().install())"
   ]
  },
  {
   "cell_type": "code",
   "execution_count": 5,
   "id": "d50a0076",
   "metadata": {},
   "outputs": [],
   "source": [
    "keyword = '서울 맛집'"
   ]
  },
  {
   "cell_type": "code",
   "execution_count": 6,
   "id": "4dd63656",
   "metadata": {},
   "outputs": [],
   "source": [
    "naver_map_search_url = f'https://map.naver.com/v5/search/{keyword}/place'"
   ]
  },
  {
   "cell_type": "code",
   "execution_count": 7,
   "id": "551ea843",
   "metadata": {},
   "outputs": [],
   "source": [
    "driver.get(naver_map_search_url)"
   ]
  },
  {
   "cell_type": "code",
   "execution_count": 8,
   "id": "3952da30",
   "metadata": {},
   "outputs": [],
   "source": [
    "# 페이지 클릭\n",
    "# click = driver.find_element_by_xpath('//*[@id=\"app-root\"]/div/div[2]/div[2]/a[3]')\n",
    "# click.click()"
   ]
  },
  {
   "cell_type": "code",
   "execution_count": 9,
   "id": "33103a0e",
   "metadata": {},
   "outputs": [],
   "source": [
    "driver.switch_to.frame('searchIframe')"
   ]
  },
  {
   "cell_type": "code",
   "execution_count": 10,
   "id": "4d710f77",
   "metadata": {},
   "outputs": [],
   "source": [
    "# time.sleep(4)"
   ]
  },
  {
   "cell_type": "code",
   "execution_count": null,
   "id": "98e34a10",
   "metadata": {},
   "outputs": [],
   "source": [
    "# //*[@id=\"app-root\"]/div/div[2]/div[2]/a[1]\n",
    "# //*[@id=\"app-root\"]/div/div[2]/div[2]/a[2]\n",
    "# //*[@id=\"app-root\"]/div/div[2]/div[2]/a[3]\n",
    "# //*[@id=\"app-root\"]/div/div[2]/div[2]/a[4]\n",
    "# //*[@id=\"app-root\"]/div/div[2]/div[2]/a[5]\n",
    "# //*[@id=\"app-root\"]/div/div[2]/div[2]/a[6]"
   ]
  },
  {
   "cell_type": "code",
   "execution_count": 11,
   "id": "2387af3b",
   "metadata": {},
   "outputs": [],
   "source": [
    "word_list = []\n",
    "page_list = []\n",
    "\n",
    "for i in range(1, 7):\n",
    "    time.sleep(10)\n",
    "    page_list.append(i)\n",
    "    click = driver.find_element_by_xpath(f'//*[@id=\"app-root\"]/div/div[2]/div[2]/a[{i}]')\n",
    "    click.click()\n",
    "    req = driver.page_source\n",
    "    soup = BeautifulSoup(req, 'html.parser')\n",
    "\n",
    "    for i in range(1, 11):\n",
    "        title = soup.select_one(f'#_pcmap_list_scroll_container > ul > li:nth-of-type({i}) > div._3hn9q > a > div.O9Z-o > div > span.OXiLu').get_text()\n",
    "    #     word = title.get_text()\n",
    "        word_list.append(title)"
   ]
  },
  {
   "cell_type": "code",
   "execution_count": 12,
   "id": "4a23eb3b",
   "metadata": {},
   "outputs": [
    {
     "data": {
      "text/plain": [
       "['현경 교대점',\n",
       " '카페 로얄마카롱 신사역점',\n",
       " '초원',\n",
       " '목란',\n",
       " '한강로칼국수',\n",
       " '다람',\n",
       " '광화문미진',\n",
       " '명동교자 본점',\n",
       " '롯데호텔서울 라세느',\n",
       " '춘천면옥',\n",
       " '현경 교대점',\n",
       " '카페 로얄마카롱 신사역점',\n",
       " '초원',\n",
       " '목란',\n",
       " '한강로칼국수',\n",
       " '다람',\n",
       " '광화문미진',\n",
       " '명동교자 본점',\n",
       " '롯데호텔서울 라세느',\n",
       " '춘천면옥',\n",
       " '현경 교대점',\n",
       " '카페 로얄마카롱 신사역점',\n",
       " '초원',\n",
       " '목란',\n",
       " '한강로칼국수',\n",
       " '다람',\n",
       " '광화문미진',\n",
       " '명동교자 본점',\n",
       " '롯데호텔서울 라세느',\n",
       " '춘천면옥',\n",
       " '바마셀',\n",
       " '압구정하루',\n",
       " '소금집델리 망원',\n",
       " '울프강 스테이크하우스',\n",
       " '런던 베이글 뮤지엄',\n",
       " '땀땀',\n",
       " '단디',\n",
       " '바이킹스워프 코엑스점',\n",
       " '해브',\n",
       " '정인면옥 본점',\n",
       " '도동집',\n",
       " '을밀대 평양냉면',\n",
       " '배키욘방',\n",
       " '카멜커피 더현대 서울',\n",
       " '우동 카덴',\n",
       " '오제제',\n",
       " '만족오향족발 시청점',\n",
       " '제스티살룬 성수',\n",
       " '어니언 성수',\n",
       " '익선잡방',\n",
       " '대도식당 왕십리본점',\n",
       " '금돼지식당',\n",
       " '보슬보슬',\n",
       " '보다버거',\n",
       " '제일곱창 본점',\n",
       " '텍사스데브라질 센트럴시티점',\n",
       " '보노보노 삼성점',\n",
       " '부촌육회 본점',\n",
       " '포레스트 청담',\n",
       " '오복수산 여의도점']"
      ]
     },
     "execution_count": 12,
     "metadata": {},
     "output_type": "execute_result"
    }
   ],
   "source": [
    "word_list"
   ]
  },
  {
   "cell_type": "code",
   "execution_count": null,
   "id": "942f4d92",
   "metadata": {},
   "outputs": [],
   "source": []
  }
 ],
 "metadata": {
  "kernelspec": {
   "display_name": "Python 3",
   "language": "python",
   "name": "python3"
  },
  "language_info": {
   "codemirror_mode": {
    "name": "ipython",
    "version": 3
   },
   "file_extension": ".py",
   "mimetype": "text/x-python",
   "name": "python",
   "nbconvert_exporter": "python",
   "pygments_lexer": "ipython3",
   "version": "3.8.6"
  }
 },
 "nbformat": 4,
 "nbformat_minor": 5
}
