{
 "cells": [
  {
   "cell_type": "code",
   "execution_count": 80,
   "id": "319be3a4",
   "metadata": {},
   "outputs": [],
   "source": [
    "import pandas as pd \n",
    "from selenium import webdriver \n",
    "from selenium.webdriver.common.keys import Keys \n",
    "from selenium.common.exceptions import NoSuchElementException \n",
    "import time \n",
    "import re \n",
    "from bs4 import BeautifulSoup \n",
    "from tqdm import tqdm\n",
    "from webdriver_manager.chrome import ChromeDriverManager\n",
    "import requests"
   ]
  },
  {
   "cell_type": "code",
   "execution_count": 151,
   "id": "48751fc7",
   "metadata": {},
   "outputs": [
    {
     "name": "stderr",
     "output_type": "stream",
     "text": [
      "\n",
      "\n",
      "====== WebDriver manager ======\n",
      "Current google-chrome version is 101.0.4951\n",
      "Get LATEST chromedriver version for 101.0.4951 google-chrome\n",
      "Driver [/Users/sol/.wdm/drivers/chromedriver/mac64_m1/101.0.4951.41/chromedriver] found in cache\n"
     ]
    }
   ],
   "source": [
    "driver = webdriver.Chrome(ChromeDriverManager().install())"
   ]
  },
  {
   "cell_type": "code",
   "execution_count": 3,
   "id": "931e436b",
   "metadata": {},
   "outputs": [],
   "source": [
    "keyword = ['강서구 맛집', '양천구 맛집', '구로구 맛집', '금천구 맛집', '영등포구 맛집', '동작구 맛집', '관악구 맛집', '서초구 맛집', '강남구 맛집', '송파구 맛집', '강동구 맛집',\n",
    "          '마포구 맛집', '용산구 맛집', '성동구 맛집', '광진구 맛집', '서대문구 맛집', '중구 맛집', '동대문구 맛집', '중랑구 맛집', '성북구 맛집', '은평구 맛집', '강북구 맛집', '도붕구 맛집', '노원구 맛집']\n",
    "keyword2 = ['고성군 맛집', '속초시 맛집', '양양군 맛집', '강릉시 맛집', '동해시 맛집', '삼척시 맛집', '태백시 맛집', '정선군 맛집', \n",
    "            '영월군 맛집', '평창군 맛집', '횡성군 맛집', '원주시 맛집', '홍천군 맛집', '인제군 맛집', '양구군 맛집', '화천군 맛집', \n",
    "            '춘천시 맛집', '철원군 맛집']\n",
    "keywords3 = ['부산 강서구 맛집', '사상구 맛집', '사하구 맛집', '영도구 맛집', '부산 중구 맛집', '부산 서구 맛집', '부산 동구 맛집', \n",
    "            '부산 남구 맛집', '부산 북구 맛집', '수영구 맛집', '해운대구 맛집', '기장군 맛집', '금정구 맛집', '동래구 맛집', '연제구 맛집', '부산진구 맛집']\n",
    "keywords4 = ['목포시 맛집', '여수시 맛집', '순천시 맛집', '나주시 맛집', '광양시 맛집', '담양군 맛집', '곡성군 맛집', \n",
    "             '구례군 맛집', '고흥군 맛집', '보성군 맛집', '화순군 맛집', '장흥군 맛집', '강진군 맛집', '해남군 맛집', \n",
    "             '영양군 맛집', '무안군 맛집', '함평군 맛집', '영광군 맛집', '장성군 맛집', '완도군 맛집', '진도군 맛집',\n",
    "             '신안군 맛집',]\n",
    "keywords5 = ['전주시 맛집', '익산시 맛집', '군산시 맛집', '정읍시 맛집', '김제시 맛집', '남원시 맛집', '원주군 맛집', \n",
    "             '고창군 맛집', '부안군 맛집', '임실군 맛집', '순창군 맛집', '진안군 맛집', '무주군 맛집', '장수군 맛집',]\n",
    "keywords6 = ['울진군 맛집', '봉화군 맛집', '영주시 맛집', '예찬군 맛집', '문경시 맛집', '상주시 맛집', '안동시 맛집', \n",
    "             '영양군 맛집', '의성군 맛집', '구미시 맛집', '김천시 맛집', '영덕군 맛집', '청송군 맛집', '군위군 맛집',\n",
    "             '칠곡군 맛집', '성주군 맛집', '고령군 맛집', '영천시 맛집', '포항시 맛집', '경산시 맛집', '청도군 맛집',\n",
    "             '경주시 맛집']\n",
    "keywords7 = ['거창군 맛집', '함양군 맛집', '합천군 맛집', '창녕군 맛집', '밀양시 맛집',\n",
    "             '양산시 맛집', '김해시 맛집', '창원시 맛집', '함안군 맛집', '의령군 맛집',\n",
    "             '산청군 맛집', '하동군 맛집', '진주시 맛집', '사천시 맛집', '고성군 맛집',\n",
    "             '통영시 맛집', '거제시 맛집']\n",
    "keywords8 = ['광주광역시 맛집', '울산광역시 맛집', '대구광역시 맛집', '충청도 맛집', '대전광역시 맛집', '인천광역시 맛집', '부천 맛집']"
   ]
  },
  {
   "cell_type": "code",
   "execution_count": 28,
   "id": "521ce2d8",
   "metadata": {},
   "outputs": [],
   "source": [
    "def scarping_title(keyword):\n",
    "    \n",
    "    word_list = []\n",
    "    page_list = []\n",
    "    \n",
    "    for i, word in enumerate(keyword):\n",
    "        naver_map_search_url = f'https://map.naver.com/v5/search/{word}/place'\n",
    "        driver.get(naver_map_search_url)\n",
    "        time.sleep(2)\n",
    "        driver.switch_to.frame('searchIframe')\n",
    "        time.sleep(2)\n",
    "\n",
    "        for i in range(1, 7):\n",
    "            time.sleep(5)\n",
    "            page_list.append(i)\n",
    "            try :\n",
    "                click = driver.find_element_by_xpath(f'//*[@id=\"app-root\"]/div/div[2]/div[2]/a[{i}]')\n",
    "                click.click()\n",
    "                req = driver.page_source\n",
    "                soup = BeautifulSoup(req, 'html.parser')\n",
    "            except : \n",
    "                pass\n",
    "\n",
    "            for i in range(1, 11):\n",
    "                time.sleep(1)\n",
    "                title = soup.select_one(f'#_pcmap_list_scroll_container > ul > li:nth-of-type({i}) > div._3hn9q > a > div.O9Z-o > div > span.OXiLu').get_text()\n",
    "            #     word = title.get_text()\n",
    "                word_list.append(title)\n",
    "    return word_list\n"
   ]
  },
  {
   "cell_type": "code",
   "execution_count": 6,
   "id": "e7c555aa",
   "metadata": {},
   "outputs": [],
   "source": [
    "seoul = scarping_title(keyword)\n",
    "kangwon = scarping_title(keyword2)\n",
    "busan = scarping_title(keywords3)\n",
    "jeonnam = scarping_title(keywords4)\n",
    "jeonbok = scarping_title(keywords5)\n",
    "gyeongbok = scarping_title(keywords6)\n",
    "gyeongnam = scarping_title(keywords7)\n",
    "others = scarping_title(keywords8)"
   ]
  },
  {
   "cell_type": "code",
   "execution_count": 158,
   "id": "0e4e5de3",
   "metadata": {},
   "outputs": [],
   "source": [
    "df = pd.read_csv('crawling_title1.csv')"
   ]
  },
  {
   "cell_type": "code",
   "execution_count": 159,
   "id": "3f31bd7f",
   "metadata": {},
   "outputs": [],
   "source": [
    "a = df['title'].to_list()"
   ]
  },
  {
   "cell_type": "code",
   "execution_count": 172,
   "id": "787c1ac5",
   "metadata": {},
   "outputs": [],
   "source": [
    "b = a + jeonbok + gyeongbok + gyeongnam + others"
   ]
  },
  {
   "cell_type": "code",
   "execution_count": 196,
   "id": "8986a04b",
   "metadata": {},
   "outputs": [],
   "source": [
    "a = {'title' : b}"
   ]
  },
  {
   "cell_type": "code",
   "execution_count": 197,
   "id": "5e265656",
   "metadata": {},
   "outputs": [],
   "source": [
    "test = pd.DataFrame(a)"
   ]
  },
  {
   "cell_type": "code",
   "execution_count": 201,
   "id": "b60c4706",
   "metadata": {},
   "outputs": [],
   "source": [
    "test = test.drop_duplicates().dropna()"
   ]
  },
  {
   "cell_type": "code",
   "execution_count": 207,
   "id": "61867675",
   "metadata": {},
   "outputs": [],
   "source": [
    "test['naver_map_url'] = ''"
   ]
  },
  {
   "cell_type": "code",
   "execution_count": 211,
   "id": "dc5b7b64",
   "metadata": {},
   "outputs": [
    {
     "name": "stderr",
     "output_type": "stream",
     "text": [
      "\n",
      "\n",
      "====== WebDriver manager ======\n",
      "Current google-chrome version is 101.0.4951\n",
      "Get LATEST chromedriver version for 101.0.4951 google-chrome\n",
      "Driver [/Users/sol/.wdm/drivers/chromedriver/mac64_m1/101.0.4951.41/chromedriver] found in cache\n"
     ]
    }
   ],
   "source": [
    "driver = webdriver.Chrome(ChromeDriverManager().install())"
   ]
  },
  {
   "cell_type": "code",
   "execution_count": null,
   "id": "bcab769a",
   "metadata": {},
   "outputs": [
    {
     "name": "stdout",
     "output_type": "stream",
     "text": [
      "이번에 찾을 키워드 : 0 / 4210 행 구락\n",
      "https://pcmap.place.naver.com/restaurant/1950177031/review/visitor#\n",
      "이번에 찾을 키워드 : 1 / 4210 행 샐러드식당 등촌본점\n",
      "https://pcmap.place.naver.com/restaurant/1740319318/review/visitor#\n",
      "이번에 찾을 키워드 : 2 / 4210 행 조선갈비\n",
      "https://pcmap.place.naver.com/restaurant/37792306/review/visitor#\n",
      "이번에 찾을 키워드 : 3 / 4210 행 팔각도 발산역점\n",
      "https://pcmap.place.naver.com/restaurant/1159200748/review/visitor#\n",
      "이번에 찾을 키워드 : 4 / 4210 행 경아식당 본점\n"
     ]
    }
   ],
   "source": [
    "for i, keyword in enumerate(test['title'].tolist()): \n",
    "    print(\"이번에 찾을 키워드 :\", i, f\"/ {test.shape[0]} 행\", keyword) \n",
    "    try: \n",
    "        naver_map_search_url = f'https://map.naver.com/v5/search/{keyword}/place' # 검색 url 만들기 \n",
    "        driver.get(naver_map_search_url) # 검색 url 접속, 즉 검색하기 \n",
    "        time.sleep(2)\n",
    "        driver.switch_to.frame('searchIframe')\n",
    "        time.sleep(2) \n",
    "        \n",
    "        try:\n",
    "            click = driver.find_element_by_xpath('/html/body/div[3]/div/div/div[1]/ul/li[1]/div[2]/a[1]/div/div/span[1]')\n",
    "            click.click()\n",
    "        except:\n",
    "            pass\n",
    "        \n",
    "        cu = driver.current_url # 검색이 성공된 플레이스에 대한 개별 페이지 \n",
    "        res_code = re.findall(r\"place/(\\d+)\", cu) \n",
    "        final_url = 'https://pcmap.place.naver.com/restaurant/'+res_code[0]+'/review/visitor#' \n",
    "        print(final_url) \n",
    "        test['naver_map_url'][i]=final_url \n",
    "        \n",
    "    except IndexError: \n",
    "        test['naver_map_url'][i]= '' \n",
    "        print('none') \n",
    "        test.to_csv('url_completed.csv', encoding = 'utf-8-sig')"
   ]
  },
  {
   "cell_type": "code",
   "execution_count": 134,
   "id": "4d8ea5d6",
   "metadata": {},
   "outputs": [],
   "source": [
    "naver_map_search_url = 'https://map.naver.com/v5/search/팔각도 발산역점/place'"
   ]
  },
  {
   "cell_type": "code",
   "execution_count": 135,
   "id": "cca0e2c5",
   "metadata": {},
   "outputs": [],
   "source": [
    "driver.get(naver_map_search_url) "
   ]
  },
  {
   "cell_type": "code",
   "execution_count": 136,
   "id": "db7d97e2",
   "metadata": {},
   "outputs": [],
   "source": [
    "driver.switch_to.frame('searchIframe')"
   ]
  },
  {
   "cell_type": "code",
   "execution_count": 137,
   "id": "63065d99",
   "metadata": {},
   "outputs": [],
   "source": [
    "# 페이지 클릭\n",
    "click = driver.find_element_by_xpath('/html/body/div[3]/div/div/div[1]/ul/li[1]/div[2]/a[1]/div/div/span[1]')"
   ]
  },
  {
   "cell_type": "code",
   "execution_count": 138,
   "id": "45a049e3",
   "metadata": {
    "collapsed": true
   },
   "outputs": [
    {
     "ename": "ElementClickInterceptedException",
     "evalue": "Message: element click intercepted: Element <iframe _ngcontent-dht-c107=\"\" src=\"about:blank\" id=\"searchIframe\" title=\"검색어 '팔각도 발산역점'에 대한 결과\" cd_frame_id_=\"063655cc9fa802f4d17b2e93cd911224\"></iframe> is not clickable at point (140, 105). Other element would receive the click: <iframe _ngcontent-dht-c107=\"\" src=\"about:blank\" id=\"entryIframe\" title=\"장소 상세\"></iframe>\n  (Session info: chrome=101.0.4951.41)\n",
     "output_type": "error",
     "traceback": [
      "\u001b[0;31m---------------------------------------------------------------------------\u001b[0m",
      "\u001b[0;31mElementClickInterceptedException\u001b[0m          Traceback (most recent call last)",
      "\u001b[0;32m<ipython-input-138-e8242d0fe043>\u001b[0m in \u001b[0;36m<module>\u001b[0;34m\u001b[0m\n\u001b[0;32m----> 1\u001b[0;31m \u001b[0mclick\u001b[0m\u001b[0;34m.\u001b[0m\u001b[0mclick\u001b[0m\u001b[0;34m(\u001b[0m\u001b[0;34m)\u001b[0m\u001b[0;34m\u001b[0m\u001b[0;34m\u001b[0m\u001b[0m\n\u001b[0m",
      "\u001b[0;32m~/miniforge3/envs/m1/lib/python3.8/site-packages/selenium/webdriver/remote/webelement.py\u001b[0m in \u001b[0;36mclick\u001b[0;34m(self)\u001b[0m\n\u001b[1;32m     78\u001b[0m     \u001b[0;32mdef\u001b[0m \u001b[0mclick\u001b[0m\u001b[0;34m(\u001b[0m\u001b[0mself\u001b[0m\u001b[0;34m)\u001b[0m\u001b[0;34m:\u001b[0m\u001b[0;34m\u001b[0m\u001b[0;34m\u001b[0m\u001b[0m\n\u001b[1;32m     79\u001b[0m         \u001b[0;34m\"\"\"Clicks the element.\"\"\"\u001b[0m\u001b[0;34m\u001b[0m\u001b[0;34m\u001b[0m\u001b[0m\n\u001b[0;32m---> 80\u001b[0;31m         \u001b[0mself\u001b[0m\u001b[0;34m.\u001b[0m\u001b[0m_execute\u001b[0m\u001b[0;34m(\u001b[0m\u001b[0mCommand\u001b[0m\u001b[0;34m.\u001b[0m\u001b[0mCLICK_ELEMENT\u001b[0m\u001b[0;34m)\u001b[0m\u001b[0;34m\u001b[0m\u001b[0;34m\u001b[0m\u001b[0m\n\u001b[0m\u001b[1;32m     81\u001b[0m \u001b[0;34m\u001b[0m\u001b[0m\n\u001b[1;32m     82\u001b[0m     \u001b[0;32mdef\u001b[0m \u001b[0msubmit\u001b[0m\u001b[0;34m(\u001b[0m\u001b[0mself\u001b[0m\u001b[0;34m)\u001b[0m\u001b[0;34m:\u001b[0m\u001b[0;34m\u001b[0m\u001b[0;34m\u001b[0m\u001b[0m\n",
      "\u001b[0;32m~/miniforge3/envs/m1/lib/python3.8/site-packages/selenium/webdriver/remote/webelement.py\u001b[0m in \u001b[0;36m_execute\u001b[0;34m(self, command, params)\u001b[0m\n\u001b[1;32m    631\u001b[0m             \u001b[0mparams\u001b[0m \u001b[0;34m=\u001b[0m \u001b[0;34m{\u001b[0m\u001b[0;34m}\u001b[0m\u001b[0;34m\u001b[0m\u001b[0;34m\u001b[0m\u001b[0m\n\u001b[1;32m    632\u001b[0m         \u001b[0mparams\u001b[0m\u001b[0;34m[\u001b[0m\u001b[0;34m'id'\u001b[0m\u001b[0;34m]\u001b[0m \u001b[0;34m=\u001b[0m \u001b[0mself\u001b[0m\u001b[0;34m.\u001b[0m\u001b[0m_id\u001b[0m\u001b[0;34m\u001b[0m\u001b[0;34m\u001b[0m\u001b[0m\n\u001b[0;32m--> 633\u001b[0;31m         \u001b[0;32mreturn\u001b[0m \u001b[0mself\u001b[0m\u001b[0;34m.\u001b[0m\u001b[0m_parent\u001b[0m\u001b[0;34m.\u001b[0m\u001b[0mexecute\u001b[0m\u001b[0;34m(\u001b[0m\u001b[0mcommand\u001b[0m\u001b[0;34m,\u001b[0m \u001b[0mparams\u001b[0m\u001b[0;34m)\u001b[0m\u001b[0;34m\u001b[0m\u001b[0;34m\u001b[0m\u001b[0m\n\u001b[0m\u001b[1;32m    634\u001b[0m \u001b[0;34m\u001b[0m\u001b[0m\n\u001b[1;32m    635\u001b[0m     \u001b[0;32mdef\u001b[0m \u001b[0mfind_element\u001b[0m\u001b[0;34m(\u001b[0m\u001b[0mself\u001b[0m\u001b[0;34m,\u001b[0m \u001b[0mby\u001b[0m\u001b[0;34m=\u001b[0m\u001b[0mBy\u001b[0m\u001b[0;34m.\u001b[0m\u001b[0mID\u001b[0m\u001b[0;34m,\u001b[0m \u001b[0mvalue\u001b[0m\u001b[0;34m=\u001b[0m\u001b[0;32mNone\u001b[0m\u001b[0;34m)\u001b[0m\u001b[0;34m:\u001b[0m\u001b[0;34m\u001b[0m\u001b[0;34m\u001b[0m\u001b[0m\n",
      "\u001b[0;32m~/miniforge3/envs/m1/lib/python3.8/site-packages/selenium/webdriver/remote/webdriver.py\u001b[0m in \u001b[0;36mexecute\u001b[0;34m(self, driver_command, params)\u001b[0m\n\u001b[1;32m    319\u001b[0m         \u001b[0mresponse\u001b[0m \u001b[0;34m=\u001b[0m \u001b[0mself\u001b[0m\u001b[0;34m.\u001b[0m\u001b[0mcommand_executor\u001b[0m\u001b[0;34m.\u001b[0m\u001b[0mexecute\u001b[0m\u001b[0;34m(\u001b[0m\u001b[0mdriver_command\u001b[0m\u001b[0;34m,\u001b[0m \u001b[0mparams\u001b[0m\u001b[0;34m)\u001b[0m\u001b[0;34m\u001b[0m\u001b[0;34m\u001b[0m\u001b[0m\n\u001b[1;32m    320\u001b[0m         \u001b[0;32mif\u001b[0m \u001b[0mresponse\u001b[0m\u001b[0;34m:\u001b[0m\u001b[0;34m\u001b[0m\u001b[0;34m\u001b[0m\u001b[0m\n\u001b[0;32m--> 321\u001b[0;31m             \u001b[0mself\u001b[0m\u001b[0;34m.\u001b[0m\u001b[0merror_handler\u001b[0m\u001b[0;34m.\u001b[0m\u001b[0mcheck_response\u001b[0m\u001b[0;34m(\u001b[0m\u001b[0mresponse\u001b[0m\u001b[0;34m)\u001b[0m\u001b[0;34m\u001b[0m\u001b[0;34m\u001b[0m\u001b[0m\n\u001b[0m\u001b[1;32m    322\u001b[0m             response['value'] = self._unwrap_value(\n\u001b[1;32m    323\u001b[0m                 response.get('value', None))\n",
      "\u001b[0;32m~/miniforge3/envs/m1/lib/python3.8/site-packages/selenium/webdriver/remote/errorhandler.py\u001b[0m in \u001b[0;36mcheck_response\u001b[0;34m(self, response)\u001b[0m\n\u001b[1;32m    240\u001b[0m                 \u001b[0malert_text\u001b[0m \u001b[0;34m=\u001b[0m \u001b[0mvalue\u001b[0m\u001b[0;34m[\u001b[0m\u001b[0;34m'alert'\u001b[0m\u001b[0;34m]\u001b[0m\u001b[0;34m.\u001b[0m\u001b[0mget\u001b[0m\u001b[0;34m(\u001b[0m\u001b[0;34m'text'\u001b[0m\u001b[0;34m)\u001b[0m\u001b[0;34m\u001b[0m\u001b[0;34m\u001b[0m\u001b[0m\n\u001b[1;32m    241\u001b[0m             \u001b[0;32mraise\u001b[0m \u001b[0mexception_class\u001b[0m\u001b[0;34m(\u001b[0m\u001b[0mmessage\u001b[0m\u001b[0;34m,\u001b[0m \u001b[0mscreen\u001b[0m\u001b[0;34m,\u001b[0m \u001b[0mstacktrace\u001b[0m\u001b[0;34m,\u001b[0m \u001b[0malert_text\u001b[0m\u001b[0;34m)\u001b[0m\u001b[0;34m\u001b[0m\u001b[0;34m\u001b[0m\u001b[0m\n\u001b[0;32m--> 242\u001b[0;31m         \u001b[0;32mraise\u001b[0m \u001b[0mexception_class\u001b[0m\u001b[0;34m(\u001b[0m\u001b[0mmessage\u001b[0m\u001b[0;34m,\u001b[0m \u001b[0mscreen\u001b[0m\u001b[0;34m,\u001b[0m \u001b[0mstacktrace\u001b[0m\u001b[0;34m)\u001b[0m\u001b[0;34m\u001b[0m\u001b[0;34m\u001b[0m\u001b[0m\n\u001b[0m\u001b[1;32m    243\u001b[0m \u001b[0;34m\u001b[0m\u001b[0m\n\u001b[1;32m    244\u001b[0m     \u001b[0;32mdef\u001b[0m \u001b[0m_value_or_default\u001b[0m\u001b[0;34m(\u001b[0m\u001b[0mself\u001b[0m\u001b[0;34m,\u001b[0m \u001b[0mobj\u001b[0m\u001b[0;34m,\u001b[0m \u001b[0mkey\u001b[0m\u001b[0;34m,\u001b[0m \u001b[0mdefault\u001b[0m\u001b[0;34m)\u001b[0m\u001b[0;34m:\u001b[0m\u001b[0;34m\u001b[0m\u001b[0;34m\u001b[0m\u001b[0m\n",
      "\u001b[0;31mElementClickInterceptedException\u001b[0m: Message: element click intercepted: Element <iframe _ngcontent-dht-c107=\"\" src=\"about:blank\" id=\"searchIframe\" title=\"검색어 '팔각도 발산역점'에 대한 결과\" cd_frame_id_=\"063655cc9fa802f4d17b2e93cd911224\"></iframe> is not clickable at point (140, 105). Other element would receive the click: <iframe _ngcontent-dht-c107=\"\" src=\"about:blank\" id=\"entryIframe\" title=\"장소 상세\"></iframe>\n  (Session info: chrome=101.0.4951.41)\n"
     ]
    }
   ],
   "source": [
    "click.click()"
   ]
  },
  {
   "cell_type": "code",
   "execution_count": 129,
   "id": "561f85db",
   "metadata": {},
   "outputs": [],
   "source": [
    "cu = driver.current_url"
   ]
  },
  {
   "cell_type": "code",
   "execution_count": 130,
   "id": "fdb01133",
   "metadata": {},
   "outputs": [
    {
     "data": {
      "text/plain": [
       "'https://map.naver.com/v5/search/%EC%83%90%EB%9F%AC%EB%93%9C%EC%8B%9D%EB%8B%B9%20%EB%93%B1%EC%B4%8C%EB%B3%B8%EC%A0%90/place/1740319318?c=14121731.5341883,4515897.4532825,15,0,0,0,dh&placePath=%3Fentry%253Dbmp'"
      ]
     },
     "execution_count": 130,
     "metadata": {},
     "output_type": "execute_result"
    }
   ],
   "source": [
    "cu"
   ]
  },
  {
   "cell_type": "code",
   "execution_count": 131,
   "id": "61e27bad",
   "metadata": {},
   "outputs": [],
   "source": [
    "res_code = re.findall(r\"place/(\\d+)\", cu) "
   ]
  },
  {
   "cell_type": "code",
   "execution_count": 132,
   "id": "7c972611",
   "metadata": {},
   "outputs": [
    {
     "data": {
      "text/plain": [
       "['1740319318']"
      ]
     },
     "execution_count": 132,
     "metadata": {},
     "output_type": "execute_result"
    }
   ],
   "source": [
    "res_code"
   ]
  },
  {
   "cell_type": "code",
   "execution_count": 133,
   "id": "2df2c3bf",
   "metadata": {},
   "outputs": [
    {
     "name": "stdout",
     "output_type": "stream",
     "text": [
      "https://pcmap.place.naver.com/restaurant/1740319318/review/visitor#\n"
     ]
    }
   ],
   "source": [
    "final_url = 'https://pcmap.place.naver.com/restaurant/'+res_code[0]+'/review/visitor#' \n",
    "print(final_url) \n",
    "test['naver_map_url'][i]=final_url "
   ]
  },
  {
   "cell_type": "code",
   "execution_count": null,
   "id": "29ac6b49",
   "metadata": {},
   "outputs": [],
   "source": []
  },
  {
   "cell_type": "code",
   "execution_count": null,
   "id": "dff2d924",
   "metadata": {},
   "outputs": [],
   "source": []
  },
  {
   "cell_type": "code",
   "execution_count": null,
   "id": "ada2e381",
   "metadata": {},
   "outputs": [],
   "source": []
  },
  {
   "cell_type": "code",
   "execution_count": 82,
   "id": "db04188d",
   "metadata": {
    "collapsed": true
   },
   "outputs": [
    {
     "ename": "UnboundLocalError",
     "evalue": "local variable 'soup' referenced before assignment",
     "output_type": "error",
     "traceback": [
      "\u001b[0;31m---------------------------------------------------------------------------\u001b[0m",
      "\u001b[0;31mUnboundLocalError\u001b[0m                         Traceback (most recent call last)",
      "\u001b[0;32m<ipython-input-82-52c1dfe9a708>\u001b[0m in \u001b[0;36m<module>\u001b[0;34m\u001b[0m\n\u001b[1;32m      5\u001b[0m \u001b[0;34m\u001b[0m\u001b[0m\n\u001b[1;32m      6\u001b[0m \u001b[0;34m\u001b[0m\u001b[0m\n\u001b[0;32m----> 7\u001b[0;31m \u001b[0mtt\u001b[0m \u001b[0;34m=\u001b[0m \u001b[0mscarping_title\u001b[0m\u001b[0;34m(\u001b[0m\u001b[0mkeywords10\u001b[0m\u001b[0;34m)\u001b[0m\u001b[0;34m\u001b[0m\u001b[0;34m\u001b[0m\u001b[0m\n\u001b[0m",
      "\u001b[0;32m<ipython-input-28-a8950c8ce7b5>\u001b[0m in \u001b[0;36mscarping_title\u001b[0;34m(keyword)\u001b[0m\n\u001b[1;32m     24\u001b[0m             \u001b[0;32mfor\u001b[0m \u001b[0mi\u001b[0m \u001b[0;32min\u001b[0m \u001b[0mrange\u001b[0m\u001b[0;34m(\u001b[0m\u001b[0;36m1\u001b[0m\u001b[0;34m,\u001b[0m \u001b[0;36m11\u001b[0m\u001b[0;34m)\u001b[0m\u001b[0;34m:\u001b[0m\u001b[0;34m\u001b[0m\u001b[0;34m\u001b[0m\u001b[0m\n\u001b[1;32m     25\u001b[0m                 \u001b[0mtime\u001b[0m\u001b[0;34m.\u001b[0m\u001b[0msleep\u001b[0m\u001b[0;34m(\u001b[0m\u001b[0;36m1\u001b[0m\u001b[0;34m)\u001b[0m\u001b[0;34m\u001b[0m\u001b[0;34m\u001b[0m\u001b[0m\n\u001b[0;32m---> 26\u001b[0;31m                 \u001b[0mtitle\u001b[0m \u001b[0;34m=\u001b[0m \u001b[0msoup\u001b[0m\u001b[0;34m.\u001b[0m\u001b[0mselect_one\u001b[0m\u001b[0;34m(\u001b[0m\u001b[0;34mf'#_pcmap_list_scroll_container > ul > li:nth-of-type({i}) > div._3hn9q > a > div.O9Z-o > div > span.OXiLu'\u001b[0m\u001b[0;34m)\u001b[0m\u001b[0;34m.\u001b[0m\u001b[0mget_text\u001b[0m\u001b[0;34m(\u001b[0m\u001b[0;34m)\u001b[0m\u001b[0;34m\u001b[0m\u001b[0;34m\u001b[0m\u001b[0m\n\u001b[0m\u001b[1;32m     27\u001b[0m             \u001b[0;31m#     word = title.get_text()\u001b[0m\u001b[0;34m\u001b[0m\u001b[0;34m\u001b[0m\u001b[0;34m\u001b[0m\u001b[0m\n\u001b[1;32m     28\u001b[0m                 \u001b[0mword_list\u001b[0m\u001b[0;34m.\u001b[0m\u001b[0mappend\u001b[0m\u001b[0;34m(\u001b[0m\u001b[0mtitle\u001b[0m\u001b[0;34m)\u001b[0m\u001b[0;34m\u001b[0m\u001b[0;34m\u001b[0m\u001b[0m\n",
      "\u001b[0;31mUnboundLocalError\u001b[0m: local variable 'soup' referenced before assignment"
     ]
    }
   ],
   "source": [
    "keywords10 = ['서울 추천']\n",
    "\n",
    "word_list = []\n",
    "page_list = []\n",
    "\n",
    "\n",
    "tt = scarping_title(keywords10)"
   ]
  },
  {
   "cell_type": "code",
   "execution_count": null,
   "id": "0c85a439",
   "metadata": {},
   "outputs": [],
   "source": [
    "# 페이지 클릭\n",
    "# click = driver.find_element_by_xpath('//*[@id=\"app-root\"]/div/div[2]/div[2]/a[3]')\n",
    "# click.click()"
   ]
  },
  {
   "cell_type": "code",
   "execution_count": null,
   "id": "3e76f101",
   "metadata": {},
   "outputs": [],
   "source": [
    "# //*[@id=\"app-root\"]/div/div[2]/div[2]/a[1]\n",
    "# //*[@id=\"app-root\"]/div/div[2]/div[2]/a[2]\n",
    "# //*[@id=\"app-root\"]/div/div[2]/div[2]/a[3]\n",
    "# //*[@id=\"app-root\"]/div/div[2]/div[2]/a[4]\n",
    "# //*[@id=\"app-root\"]/div/div[2]/div[2]/a[5]\n",
    "# //*[@id=\"app-root\"]/div/div[2]/div[2]/a[6]"
   ]
  },
  {
   "cell_type": "code",
   "execution_count": null,
   "id": "fda2ed8f",
   "metadata": {},
   "outputs": [],
   "source": []
  }
 ],
 "metadata": {
  "kernelspec": {
   "display_name": "Python 3",
   "language": "python",
   "name": "python3"
  },
  "language_info": {
   "codemirror_mode": {
    "name": "ipython",
    "version": 3
   },
   "file_extension": ".py",
   "mimetype": "text/x-python",
   "name": "python",
   "nbconvert_exporter": "python",
   "pygments_lexer": "ipython3",
   "version": "3.8.6"
  }
 },
 "nbformat": 4,
 "nbformat_minor": 5
}
